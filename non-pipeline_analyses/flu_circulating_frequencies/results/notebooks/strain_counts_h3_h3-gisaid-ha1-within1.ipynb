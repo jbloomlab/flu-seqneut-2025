{
 "cells": [
  {
   "cell_type": "code",
   "execution_count": 1,
   "id": "9884488f-1e6a-4cdc-8f07-c46de9d47103",
   "metadata": {
    "editable": true,
    "execution": {
     "iopub.execute_input": "2025-05-09T23:54:36.682787Z",
     "iopub.status.busy": "2025-05-09T23:54:36.682016Z",
     "iopub.status.idle": "2025-05-09T23:54:36.691596Z",
     "shell.execute_reply": "2025-05-09T23:54:36.690379Z"
    },
    "papermill": {
     "duration": 0.024098,
     "end_time": "2025-05-09T23:54:36.693495",
     "exception": false,
     "start_time": "2025-05-09T23:54:36.669397",
     "status": "completed"
    },
    "slideshow": {
     "slide_type": ""
    },
    "tags": [
     "parameters"
    ]
   },
   "outputs": [],
   "source": [
    "# Fake input for debugging\n",
    "# class FakeSnakemake:\n",
    "#     input = {\"counts_by_date\": \"../results/strain_counts_h3/h3-gisaid-ha1-exact_counts_by_date.csv\"}\n",
    "#     params = {\"protset\": \"h3-gisaid-ha1-exact\", \"group\": \"h3\"}\n",
    "\n",
    "# snakemake = FakeSnakemake()\n",
    "\n",
    "# # Parameters passed by Snakemake\n",
    "# input_file = snakemake.input[\"counts_by_date\"]\n",
    "# protset = snakemake.params[\"protset\"]\n",
    "# group = snakemake.params[\"group\"]\n",
    "\n",
    "# Comment to run interactively\n",
    "\n",
    "\n",
    "# Parameters (injected by Papermill or Snakemake shell)\n",
    "protset = None\n",
    "group = None\n",
    "counts_by_date = None\n",
    "\n"
   ]
  },
  {
   "cell_type": "code",
   "execution_count": 2,
   "id": "56540fd4",
   "metadata": {
    "execution": {
     "iopub.execute_input": "2025-05-09T23:54:36.718949Z",
     "iopub.status.busy": "2025-05-09T23:54:36.718241Z",
     "iopub.status.idle": "2025-05-09T23:54:36.724030Z",
     "shell.execute_reply": "2025-05-09T23:54:36.722954Z"
    },
    "papermill": {
     "duration": 0.022551,
     "end_time": "2025-05-09T23:54:36.726760",
     "exception": false,
     "start_time": "2025-05-09T23:54:36.704209",
     "status": "completed"
    },
    "tags": [
     "injected-parameters"
    ]
   },
   "outputs": [],
   "source": [
    "# Parameters\n",
    "protset = \"h3-gisaid-ha1-within1\"\n",
    "group = \"h3\"\n",
    "counts_by_date = \"results/strain_counts_h3/h3-gisaid-ha1-within1_counts_by_date.csv\"\n"
   ]
  },
  {
   "cell_type": "markdown",
   "id": "26672fa3-6e50-43db-af0e-206aba99f750",
   "metadata": {
    "papermill": {
     "duration": 0.007663,
     "end_time": "2025-05-09T23:54:36.746642",
     "exception": false,
     "start_time": "2025-05-09T23:54:36.738979",
     "status": "completed"
    },
    "tags": []
   },
   "source": [
    "# Plot strain frequencies"
   ]
  },
  {
   "cell_type": "code",
   "execution_count": 3,
   "id": "106f4d46-7674-4fc7-ad37-a148876795f9",
   "metadata": {
    "execution": {
     "iopub.execute_input": "2025-05-09T23:54:36.764728Z",
     "iopub.status.busy": "2025-05-09T23:54:36.764110Z",
     "iopub.status.idle": "2025-05-09T23:54:38.568287Z",
     "shell.execute_reply": "2025-05-09T23:54:38.567157Z"
    },
    "papermill": {
     "duration": 1.816334,
     "end_time": "2025-05-09T23:54:38.570546",
     "exception": false,
     "start_time": "2025-05-09T23:54:36.754212",
     "status": "completed"
    },
    "tags": []
   },
   "outputs": [],
   "source": [
    "# Import\n",
    "import datetime\n",
    "import math\n",
    "import re\n",
    "import altair as alt\n",
    "import matplotlib.pyplot as plt\n",
    "import numpy\n",
    "import pandas as pd\n",
    "\n",
    "# Ignore Altair error message about large dataframes\n",
    "_ = alt.data_transformers.disable_max_rows()\n",
    "\n",
    "# Get variables from `snakemake`\n",
    "# desc = f\"{snakemake.wildcards.protset}_{snakemake.wildcards.mlrfit}\"\n",
    "# print(desc)\n",
    "# counts_by_date_csv = snakemake.input.counts_by_date\n",
    "\n",
    "# Get variables\n",
    "# Uncomment to run interactively\n",
    "color_scheme = [\n",
    "    '#345995', #blue\n",
    "    '#03cea4', #teal\n",
    "    '#ca1551', #red\n",
    "    '#eac435', #yellow\n",
    "               ]\n",
    "\n",
    "date_start = datetime.date.fromisoformat('2024-04-01')\n",
    "date_end = datetime.date.fromisoformat('2025-04-08')\n",
    "\n",
    "date_start = pd.Timestamp(date_start)\n",
    "date_end = pd.Timestamp(date_end)\n",
    "\n",
    "min_counts = 50\n",
    "\n",
    "plot_window_frame_days = 10\n",
    "\n",
    "input_file = counts_by_date\n",
    "counts_by_date_csv = input_file\n"
   ]
  },
  {
   "cell_type": "markdown",
   "id": "8ab9e001-fe67-492d-ac3c-fd784d1cb266",
   "metadata": {
    "papermill": {
     "duration": 0.008102,
     "end_time": "2025-05-09T23:54:38.589497",
     "exception": false,
     "start_time": "2025-05-09T23:54:38.581395",
     "status": "completed"
    },
    "tags": []
   },
   "source": [
    "Read data. We filter for counts within the specified date range, and then filter for strains that have sufficient counts in that range. At the end of this, strains fall in one of two categories:\n",
    "\n",
    "* Exact match or within 1 aa mutation of a named library strain (eg, A/Bhutan/0845/2023)\n",
    "* Strain not in library: does not match a strain in library or any sequence within 1 "
   ]
  },
  {
   "cell_type": "code",
   "execution_count": 4,
   "id": "8efc1135-f030-4f90-b2ce-769096a04573",
   "metadata": {
    "execution": {
     "iopub.execute_input": "2025-05-09T23:54:38.606873Z",
     "iopub.status.busy": "2025-05-09T23:54:38.605841Z",
     "iopub.status.idle": "2025-05-09T23:54:38.648948Z",
     "shell.execute_reply": "2025-05-09T23:54:38.648317Z"
    },
    "papermill": {
     "duration": 0.054289,
     "end_time": "2025-05-09T23:54:38.651219",
     "exception": false,
     "start_time": "2025-05-09T23:54:38.596930",
     "status": "completed"
    },
    "tags": []
   },
   "outputs": [
    {
     "name": "stdout",
     "output_type": "stream",
     "text": [
      "Trimming counts by date to the range date_start=Timestamp('2024-04-01 00:00:00') to date_end=Timestamp('2025-04-08 00:00:00')\n"
     ]
    }
   ],
   "source": [
    "NOT_IN_LIBRARY = \"strain not in library\"\n",
    "\n",
    "all_counts_by_date = (\n",
    "    pd.read_csv(counts_by_date_csv, parse_dates=[\"date\"])\n",
    "    .sort_values([\"date\", \"variant\"])\n",
    ")\n",
    "\n",
    "if date_start < all_counts_by_date[\"date\"].min():\n",
    "    raise ValueError(f\"{date_start=} before {all_counts_by_date['date'].min()=}\")\n",
    "if date_end > all_counts_by_date[\"date\"].max():\n",
    "    raise ValueError(f\"{date_start=} after {all_counts_by_date['date'].max()=}\")\n",
    "\n",
    "print(f\"Trimming counts by date to the range {date_start=} to {date_end=}\")\n",
    "all_counts_by_date = all_counts_by_date[\n",
    "    (all_counts_by_date[\"date\"] >= date_start)\n",
    "    & (all_counts_by_date[\"date\"] <= date_end)\n",
    "]\n",
    "\n",
    "assert \"other\" in set(all_counts_by_date[\"variant\"])\n",
    "assert NOT_IN_LIBRARY not in set(all_counts_by_date[\"variant\"])\n",
    "all_counts_by_date[\"variant\"] = all_counts_by_date[\"variant\"].replace(\n",
    "    \"other\", NOT_IN_LIBRARY\n",
    ")"
   ]
  },
  {
   "cell_type": "markdown",
   "id": "4b008499-b35d-45b5-a8e0-6e8d829e383c",
   "metadata": {
    "papermill": {
     "duration": 0.007827,
     "end_time": "2025-05-09T23:54:38.671875",
     "exception": false,
     "start_time": "2025-05-09T23:54:38.664048",
     "status": "completed"
    },
    "tags": []
   },
   "source": [
    "Get total counts for each variant:"
   ]
  },
  {
   "cell_type": "code",
   "execution_count": 5,
   "id": "b2175209-8e80-45ba-bf32-fc788694d12d",
   "metadata": {
    "execution": {
     "iopub.execute_input": "2025-05-09T23:54:38.689821Z",
     "iopub.status.busy": "2025-05-09T23:54:38.689038Z",
     "iopub.status.idle": "2025-05-09T23:54:38.790053Z",
     "shell.execute_reply": "2025-05-09T23:54:38.789487Z"
    },
    "papermill": {
     "duration": 0.114032,
     "end_time": "2025-05-09T23:54:38.793695",
     "exception": false,
     "start_time": "2025-05-09T23:54:38.679663",
     "status": "completed"
    },
    "tags": []
   },
   "outputs": [
    {
     "data": {
      "text/html": [
       "\n",
       "<style>\n",
       "  #altair-viz-19e04f6e3ca6492592a7a65820fcfa0a.vega-embed {\n",
       "    width: 100%;\n",
       "    display: flex;\n",
       "  }\n",
       "\n",
       "  #altair-viz-19e04f6e3ca6492592a7a65820fcfa0a.vega-embed details,\n",
       "  #altair-viz-19e04f6e3ca6492592a7a65820fcfa0a.vega-embed details summary {\n",
       "    position: relative;\n",
       "  }\n",
       "</style>\n",
       "<div id=\"altair-viz-19e04f6e3ca6492592a7a65820fcfa0a\"></div>\n",
       "<script type=\"text/javascript\">\n",
       "  var VEGA_DEBUG = (typeof VEGA_DEBUG == \"undefined\") ? {} : VEGA_DEBUG;\n",
       "  (function(spec, embedOpt){\n",
       "    let outputDiv = document.currentScript.previousElementSibling;\n",
       "    if (outputDiv.id !== \"altair-viz-19e04f6e3ca6492592a7a65820fcfa0a\") {\n",
       "      outputDiv = document.getElementById(\"altair-viz-19e04f6e3ca6492592a7a65820fcfa0a\");\n",
       "    }\n",
       "\n",
       "    const paths = {\n",
       "      \"vega\": \"https://cdn.jsdelivr.net/npm/vega@5?noext\",\n",
       "      \"vega-lib\": \"https://cdn.jsdelivr.net/npm/vega-lib?noext\",\n",
       "      \"vega-lite\": \"https://cdn.jsdelivr.net/npm/vega-lite@5.20.1?noext\",\n",
       "      \"vega-embed\": \"https://cdn.jsdelivr.net/npm/vega-embed@6?noext\",\n",
       "    };\n",
       "\n",
       "    function maybeLoadScript(lib, version) {\n",
       "      var key = `${lib.replace(\"-\", \"\")}_version`;\n",
       "      return (VEGA_DEBUG[key] == version) ?\n",
       "        Promise.resolve(paths[lib]) :\n",
       "        new Promise(function(resolve, reject) {\n",
       "          var s = document.createElement('script');\n",
       "          document.getElementsByTagName(\"head\")[0].appendChild(s);\n",
       "          s.async = true;\n",
       "          s.onload = () => {\n",
       "            VEGA_DEBUG[key] = version;\n",
       "            return resolve(paths[lib]);\n",
       "          };\n",
       "          s.onerror = () => reject(`Error loading script: ${paths[lib]}`);\n",
       "          s.src = paths[lib];\n",
       "        });\n",
       "    }\n",
       "\n",
       "    function showError(err) {\n",
       "      outputDiv.innerHTML = `<div class=\"error\" style=\"color:red;\">${err}</div>`;\n",
       "      throw err;\n",
       "    }\n",
       "\n",
       "    function displayChart(vegaEmbed) {\n",
       "      vegaEmbed(outputDiv, spec, embedOpt)\n",
       "        .catch(err => showError(`Javascript Error: ${err.message}<br>This usually means there's a typo in your chart specification. See the javascript console for the full traceback.`));\n",
       "    }\n",
       "\n",
       "    if(typeof define === \"function\" && define.amd) {\n",
       "      requirejs.config({paths});\n",
       "      let deps = [\"vega-embed\"];\n",
       "      require(deps, displayChart, err => showError(`Error loading script: ${err.message}`));\n",
       "    } else {\n",
       "      maybeLoadScript(\"vega\", \"5\")\n",
       "        .then(() => maybeLoadScript(\"vega-lite\", \"5.20.1\"))\n",
       "        .then(() => maybeLoadScript(\"vega-embed\", \"6\"))\n",
       "        .catch(showError)\n",
       "        .then(() => displayChart(vegaEmbed));\n",
       "    }\n",
       "  })({\"config\": {\"view\": {\"continuousWidth\": 300, \"continuousHeight\": 300}}, \"data\": {\"name\": \"data-e433a6e4839d4aa7586cbef7ff57d5f9\"}, \"mark\": {\"type\": \"bar\", \"stroke\": \"black\"}, \"encoding\": {\"fill\": {\"field\": \"sufficient_counts\", \"legend\": {\"offset\": 3, \"orient\": \"top-right\"}, \"scale\": {\"domain\": [true, false], \"range\": [\"gray\", \"white\"]}, \"title\": \"counts >= 50?\", \"type\": \"nominal\"}, \"tooltip\": [{\"field\": \"variant\", \"type\": \"nominal\"}, {\"field\": \"total_sequences\", \"type\": \"quantitative\"}, {\"field\": \"sufficient_counts\", \"type\": \"nominal\"}], \"x\": {\"field\": \"variant\", \"sort\": {\"field\": \"total_sequences\", \"order\": \"descending\"}, \"title\": null, \"type\": \"nominal\"}, \"y\": {\"axis\": {\"grid\": false}, \"field\": \"total_sequences\", \"scale\": {\"constant\": 50, \"type\": \"symlog\"}, \"title\": \"total sequences\", \"type\": \"quantitative\"}}, \"height\": 150, \"title\": \"total sequences per strain from 2024-04-01 to 2025-04-08\", \"width\": {\"step\": 11}, \"$schema\": \"https://vega.github.io/schema/vega-lite/v5.20.1.json\", \"datasets\": {\"data-e433a6e4839d4aa7586cbef7ff57d5f9\": [{\"variant\": \"A/Amapa/021563-IEC/2024|EPI_ISL_19266713|EPI3439495\", \"total_sequences\": 15.166666666666666, \"sufficient_counts\": false}, {\"variant\": \"A/Badajoz/18680568/2025|EPI_ISL_19775350|EPI4088693\", \"total_sequences\": 9.0, \"sufficient_counts\": false}, {\"variant\": \"A/BurkinaFaso/3131/2023|EPI_ISL_19093570\", \"total_sequences\": 33.0, \"sufficient_counts\": false}, {\"variant\": \"A/Busan/461/2025|EPI_ISL_19794442\", \"total_sequences\": 1.0, \"sufficient_counts\": false}, {\"variant\": \"A/Canberra/613/2024|EPI_ISL_19561219\", \"total_sequences\": 19.5, \"sufficient_counts\": false}, {\"variant\": \"A/Colombia/1851/2024|EPI_ISL_19727802\", \"total_sequences\": 156.0, \"sufficient_counts\": true}, {\"variant\": \"A/Colombia/7681/2024|EPI_ISL_19628089\", \"total_sequences\": 163.0, \"sufficient_counts\": true}, {\"variant\": \"A/Colorado/ISC-1416/2024|EPI_ISL_19628516\", \"total_sequences\": 291.5, \"sufficient_counts\": true}, {\"variant\": \"A/CoteD'Ivoire/4448/2024|EPI_ISL_19687843\", \"total_sequences\": 36.0, \"sufficient_counts\": false}, {\"variant\": \"A/DE/DE-DHSS-901/2025_(H3N2)|EPI_ISL_19720065|EPI3923199\", \"total_sequences\": 44.0, \"sufficient_counts\": false}, {\"variant\": \"A/Ecuador/1385/2024|EPI_ISL_19745369\", \"total_sequences\": 6.666666666666666, \"sufficient_counts\": false}, {\"variant\": \"A/Florida/ISC-1241/2025|EPI_ISL_19790412|EPI4135634\", \"total_sequences\": 8.5, \"sufficient_counts\": false}, {\"variant\": \"A/France/ARA-RELAB-HCL025017178801/2025|EPI_ISL_19708803|EPI3894630\", \"total_sequences\": 38.0, \"sufficient_counts\": false}, {\"variant\": \"A/France/BRE-IPP01880/2025|EPI_ISL_19731877|EPI3961949\", \"total_sequences\": 15.0, \"sufficient_counts\": false}, {\"variant\": \"A/France/PAC-RELAB-HCL024172122101/2024|EPI_ISL_19556698\", \"total_sequences\": 331.5, \"sufficient_counts\": true}, {\"variant\": \"A/Ghana/FS-25-0256/2025|EPI_ISL_19762385\", \"total_sequences\": 1.0, \"sufficient_counts\": false}, {\"variant\": \"A/India/Pune-NIV24_3439/2024|EPI_ISL_19705954\", \"total_sequences\": 31.0, \"sufficient_counts\": false}, {\"variant\": \"A/Indiana/46/2024|EPI_ISL_19628119\", \"total_sequences\": 263.1, \"sufficient_counts\": true}, {\"variant\": \"A/Kentucky/57/2024|EPI_ISL_19628043\", \"total_sequences\": 312.5, \"sufficient_counts\": true}, {\"variant\": \"A/Lisboa/216/2023|EPI_ISL_18913575\", \"total_sequences\": 93.10000000000001, \"sufficient_counts\": true}, {\"variant\": \"A/Maldives/2147/2024|EPI_ISL_19727787\", \"total_sequences\": 173.0, \"sufficient_counts\": true}, {\"variant\": \"A/Maldives/2186/2024|EPI_ISL_19727752\", \"total_sequences\": 26.5, \"sufficient_counts\": false}, {\"variant\": \"A/Manitoba/RV04865/2024|EPI_ISL_19565836\", \"total_sequences\": 43.0, \"sufficient_counts\": false}, {\"variant\": \"A/Massachusetts/93/2024|EPI_ISL_19646975\", \"total_sequences\": 2124.6666666666665, \"sufficient_counts\": true}, {\"variant\": \"A/Massachusetts/BI_MGH-23147/2025|EPI_ISL_19769038|EPI4070676\", \"total_sequences\": 29.0, \"sufficient_counts\": false}, {\"variant\": \"A/Massachusetts/ISC-1684/2025|EPI_ISL_19790438\", \"total_sequences\": 312.5, \"sufficient_counts\": true}, {\"variant\": \"A/Mato_Grosso_do_Sul/518/2025|EPI_ISL_19755351|EPI4034210\", \"total_sequences\": 2.0, \"sufficient_counts\": false}, {\"variant\": \"A/Michigan/120/2024|EPI_ISL_19628034\", \"total_sequences\": 194.0, \"sufficient_counts\": true}, {\"variant\": \"A/Michigan/UM-10062069629/2025|EPI_ISL_19754645|EPI4032322\", \"total_sequences\": 5.0, \"sufficient_counts\": false}, {\"variant\": \"A/Michigan/UM-10062100736/2025|EPI_ISL_19754053|EPI4028619\", \"total_sequences\": 23.0, \"sufficient_counts\": false}, {\"variant\": \"A/Minnesota/126/2024|EPI_ISL_19586912\", \"total_sequences\": 11.0, \"sufficient_counts\": false}, {\"variant\": \"A/Minnesota/133/2024|EPI_ISL_19628109\", \"total_sequences\": 782.5, \"sufficient_counts\": true}, {\"variant\": \"A/Minnesota/97/2024|EPI_ISL_19445320\", \"total_sequences\": 282.6, \"sufficient_counts\": true}, {\"variant\": \"A/Netherlands/01502/2025|EPI_ISL_19786781\", \"total_sequences\": 666.1666666666666, \"sufficient_counts\": true}, {\"variant\": \"A/Netherlands/10563/2023|EPI_ISL_18545932\", \"total_sequences\": 2.0, \"sufficient_counts\": false}, {\"variant\": \"A/Nevada/216/2024|EPI_ISL_19628198\", \"total_sequences\": 54.5, \"sufficient_counts\": true}, {\"variant\": \"A/New_York/191/2024|EPI_ISL_19586926\", \"total_sequences\": 189.5, \"sufficient_counts\": true}, {\"variant\": \"A/New_York/39/2025|EPI_ISL_19789808|EPI4131294\", \"total_sequences\": 4.0, \"sufficient_counts\": false}, {\"variant\": \"A/New_York/GKISBBBE61555/2025|EPI_ISL_19777744|EPI4101537\", \"total_sequences\": 31.0, \"sufficient_counts\": false}, {\"variant\": \"A/Oregon/265/2024|EPI_ISL_19628082\", \"total_sequences\": 76.5, \"sufficient_counts\": true}, {\"variant\": \"A/Pennsylvania/288/2024|EPI_ISL_19646959\", \"total_sequences\": 20.0, \"sufficient_counts\": false}, {\"variant\": \"A/Punta_Arenas/83659/2024|EPI_ISL_19652846\", \"total_sequences\": 45.0, \"sufficient_counts\": false}, {\"variant\": \"A/Queensland/IN000692/2024|EPI_ISL_19664768\", \"total_sequences\": 1078.0, \"sufficient_counts\": true}, {\"variant\": \"A/Queensland/IN000803/2024|EPI_ISL_19664823\", \"total_sequences\": 158.5, \"sufficient_counts\": true}, {\"variant\": \"A/Rhode_Island/15446/2025|EPI_ISL_19774046\", \"total_sequences\": 30.833333333333332, \"sufficient_counts\": false}, {\"variant\": \"A/Rhode_Island/66/2024|EPI_ISL_19667940\", \"total_sequences\": 8.5, \"sufficient_counts\": false}, {\"variant\": \"A/Santa_Catarina/333/2025|EPI_ISL_19786875\", \"total_sequences\": 107.33333333333334, \"sufficient_counts\": true}, {\"variant\": \"A/Sao_Paulo/358026766-IAL/2024|EPI_ISL_19647100\", \"total_sequences\": 11.0, \"sufficient_counts\": false}, {\"variant\": \"A/Saskatchewan/RV04835/2024|EPI_ISL_19565825\", \"total_sequences\": 52.0, \"sufficient_counts\": true}, {\"variant\": \"A/Slovenia/49/2024|EPI_ISL_19192381\", \"total_sequences\": 98.5, \"sufficient_counts\": true}, {\"variant\": \"A/Switzerland/47775/2024|EPI_ISL_19586736\", \"total_sequences\": 2.0, \"sufficient_counts\": false}, {\"variant\": \"A/Switzerland/860423897313/2023|EPI_ISL_19654915\", \"total_sequences\": 397.5, \"sufficient_counts\": true}, {\"variant\": \"A/Sydney/43/2025|EPI_ISL_19780873\", \"total_sequences\": 295.0, \"sufficient_counts\": true}, {\"variant\": \"A/Tasmania/790/2024|EPI_ISL_19661471\", \"total_sequences\": 2.0, \"sufficient_counts\": false}, {\"variant\": \"A/Tasmania/836/2024|EPI_ISL_19574653\", \"total_sequences\": 14.5, \"sufficient_counts\": false}, {\"variant\": \"A/Tennessee/99/2024|EPI_ISL_19628042\", \"total_sequences\": 228.0, \"sufficient_counts\": true}, {\"variant\": \"A/Texas/15550/2024|EPI_ISL_19776837\", \"total_sequences\": 31.0, \"sufficient_counts\": false}, {\"variant\": \"A/Texas/ISC-1148/2025|EPI_ISL_19759499\", \"total_sequences\": 2600.5, \"sufficient_counts\": true}, {\"variant\": \"A/Texas/ISC-1274/2025|EPI_ISL_19759743\", \"total_sequences\": 244.0, \"sufficient_counts\": true}, {\"variant\": \"A/Texas/ISC-1322/2025|EPI_ISL_19759740\", \"total_sequences\": 35.5, \"sufficient_counts\": false}, {\"variant\": \"A/Texas/ISC-1342/2025|EPI_ISL_19759886\", \"total_sequences\": 108.0, \"sufficient_counts\": true}, {\"variant\": \"A/Utah/94/2024|EPI_ISL_19628194\", \"total_sequences\": 18.5, \"sufficient_counts\": false}, {\"variant\": \"A/Vermont/13/2025|EPI_ISL_19759256\", \"total_sequences\": 37.5, \"sufficient_counts\": false}, {\"variant\": \"A/Victoria/3480/2024|EPI_ISL_19711514\", \"total_sequences\": 8.6, \"sufficient_counts\": false}, {\"variant\": \"A/Victoria/3482/2024|EPI_ISL_19711513\", \"total_sequences\": 36.0, \"sufficient_counts\": false}, {\"variant\": \"A/Victoria/46/2024|EPI_ISL_18876538\", \"total_sequences\": 853.5, \"sufficient_counts\": true}, {\"variant\": \"A/Victoria/96/2025|EPI_ISL_19778249\", \"total_sequences\": 1.5, \"sufficient_counts\": false}, {\"variant\": \"A/Washington/15245/2025|EPI_ISL_19756265\", \"total_sequences\": 12.5, \"sufficient_counts\": false}, {\"variant\": \"A/Washington/284/2024|EPI_ISL_19628073\", \"total_sequences\": 75.0, \"sufficient_counts\": true}, {\"variant\": \"A/Wisconsin/172/2024|EPI_ISL_19628110\", \"total_sequences\": 868.2666666666667, \"sufficient_counts\": true}, {\"variant\": \"A/Wisconsin/NIRC-IS-1016/2024|EPI_ISL_19628582\", \"total_sequences\": 57.5, \"sufficient_counts\": true}, {\"variant\": \"A/Wisconsin/NIRC-IS-1028/2024|EPI_ISL_19628591\", \"total_sequences\": 8.5, \"sufficient_counts\": false}, {\"variant\": \"strain not in library\", \"total_sequences\": 3441.0, \"sufficient_counts\": true}]}}, {\"mode\": \"vega-lite\"});\n",
       "</script>"
      ],
      "text/plain": [
       "alt.Chart(...)"
      ]
     },
     "execution_count": 5,
     "metadata": {},
     "output_type": "execute_result"
    }
   ],
   "source": [
    "total_counts = (\n",
    "    all_counts_by_date\n",
    "    .groupby(\"variant\", as_index=False)\n",
    "    .aggregate(total_sequences=pd.NamedAgg(\"sequences\", \"sum\"))\n",
    "    .assign(sufficient_counts=lambda x: x[\"total_sequences\"] >= min_counts)\n",
    ")\n",
    "\n",
    "total_counts_chart = (\n",
    "    alt.Chart(total_counts)\n",
    "    .encode(\n",
    "        alt.X(\n",
    "            \"variant\",\n",
    "            sort=alt.SortField(\"total_sequences\", order=\"descending\"),\n",
    "            title=None,\n",
    "        ),\n",
    "        alt.Y(\n",
    "            \"total_sequences\",\n",
    "            scale=alt.Scale(type=\"symlog\", constant=50),\n",
    "            title=\"total sequences\",\n",
    "            axis=alt.Axis(grid=False),\n",
    "        ),\n",
    "        alt.Fill(\n",
    "            \"sufficient_counts\",\n",
    "            scale=alt.Scale(range=[\"gray\", \"white\"], domain=[True, False]),\n",
    "            title=f\"counts >= {min_counts}?\",\n",
    "            legend=alt.Legend(orient=\"top-right\", offset=3)\n",
    "        ),\n",
    "        tooltip=total_counts.columns.tolist(),\n",
    "    )\n",
    "    .mark_bar(stroke=\"black\")\n",
    "    .properties(\n",
    "        height=150,\n",
    "        width=alt.Step(11),\n",
    "        title=f\"total sequences per strain from {date_start.date()} to {date_end.date()}\",\n",
    "    )\n",
    ")\n",
    "\n",
    "total_counts_chart"
   ]
  },
  {
   "cell_type": "markdown",
   "id": "add34d6e-bc1f-4b23-871d-b0853d12da50",
   "metadata": {
    "papermill": {
     "duration": 0.007591,
     "end_time": "2025-05-09T23:54:38.815523",
     "exception": false,
     "start_time": "2025-05-09T23:54:38.807932",
     "status": "completed"
    },
    "tags": []
   },
   "source": [
    "Now filter the counts by date to group all library strains with insufficient counts. Also pad any missing dates in the range:"
   ]
  },
  {
   "cell_type": "code",
   "execution_count": 6,
   "id": "add44453-d224-415c-a5c3-146674c080b4",
   "metadata": {
    "execution": {
     "iopub.execute_input": "2025-05-09T23:54:38.834438Z",
     "iopub.status.busy": "2025-05-09T23:54:38.833727Z",
     "iopub.status.idle": "2025-05-09T23:54:39.351453Z",
     "shell.execute_reply": "2025-05-09T23:54:39.350646Z"
    },
    "papermill": {
     "duration": 0.530274,
     "end_time": "2025-05-09T23:54:39.353955",
     "exception": false,
     "start_time": "2025-05-09T23:54:38.823681",
     "status": "completed"
    },
    "tags": []
   },
   "outputs": [
    {
     "name": "stdout",
     "output_type": "stream",
     "text": [
      "Padding with zero counts any missing days between 2024-04-01 00:00:00 and 2025-04-08 00:00:00\n"
     ]
    }
   ],
   "source": [
    "# Group strains w insufficient counts and pad zero counts on days w no counts\n",
    "filtered_counts_by_date = (\n",
    "    all_counts_by_date\n",
    "    .assign(\n",
    "        variant=lambda x: x[\"variant\"],\n",
    "        day=lambda x: (x[\"date\"] - date_start).dt.days,\n",
    "    )\n",
    "    .groupby([\"variant\", \"day\"], as_index=False)\n",
    "    .aggregate({\"sequences\": \"sum\"})\n",
    "    .sort_values([\"day\", \"variant\"])\n",
    ")\n",
    "\n",
    "days = filtered_counts_by_date[\"day\"].unique()\n",
    "assert all(days == days.astype(int)), \"dates not all rounded to day\"\n",
    "\n",
    "print(f\"Padding with zero counts any missing days between {date_start} and {date_end}\")\n",
    "filtered_counts_by_date = (\n",
    "    filtered_counts_by_date\n",
    "    .merge(\n",
    "        pd.DataFrame(\n",
    "            [\n",
    "                (v, d)\n",
    "                for v in filtered_counts_by_date[\"variant\"].unique()\n",
    "                for d in range(days.min(), days.max() + 1)\n",
    "            ],\n",
    "            columns=[\"variant\", \"day\"],\n",
    "        ),\n",
    "        how=\"outer\",\n",
    "        validate=\"one_to_one\",\n",
    "    )\n",
    "    .assign(\n",
    "        sequences=lambda x: x[\"sequences\"].fillna(0),\n",
    "        date=lambda x: x[\"day\"].map(lambda d: date_start + pd.Timedelta(days=d)),\n",
    "    )\n",
    "    .drop(columns=\"day\")\n",
    ")"
   ]
  },
  {
   "cell_type": "markdown",
   "id": "94245714-497a-4da6-b03f-dd18b95ae330",
   "metadata": {
    "papermill": {
     "duration": 0.010058,
     "end_time": "2025-05-09T23:54:39.377642",
     "exception": false,
     "start_time": "2025-05-09T23:54:39.367584",
     "status": "completed"
    },
    "tags": []
   },
   "source": [
    "Plot number of strains in each group as a function of date:\n",
    "\n"
   ]
  },
  {
   "cell_type": "code",
   "execution_count": 7,
   "id": "a48c6770-5a90-46b0-9a6b-84ef82b5e448",
   "metadata": {
    "execution": {
     "iopub.execute_input": "2025-05-09T23:54:39.397609Z",
     "iopub.status.busy": "2025-05-09T23:54:39.396535Z",
     "iopub.status.idle": "2025-05-09T23:54:39.508931Z",
     "shell.execute_reply": "2025-05-09T23:54:39.508163Z"
    },
    "papermill": {
     "duration": 0.127027,
     "end_time": "2025-05-09T23:54:39.513047",
     "exception": false,
     "start_time": "2025-05-09T23:54:39.386020",
     "status": "completed"
    },
    "tags": []
   },
   "outputs": [
    {
     "data": {
      "text/html": [
       "\n",
       "<style>\n",
       "  #altair-viz-25bed054dfb1492398435f3e01c9778a.vega-embed {\n",
       "    width: 100%;\n",
       "    display: flex;\n",
       "  }\n",
       "\n",
       "  #altair-viz-25bed054dfb1492398435f3e01c9778a.vega-embed details,\n",
       "  #altair-viz-25bed054dfb1492398435f3e01c9778a.vega-embed details summary {\n",
       "    position: relative;\n",
       "  }\n",
       "</style>\n",
       "<div id=\"altair-viz-25bed054dfb1492398435f3e01c9778a\"></div>\n",
       "<script type=\"text/javascript\">\n",
       "  var VEGA_DEBUG = (typeof VEGA_DEBUG == \"undefined\") ? {} : VEGA_DEBUG;\n",
       "  (function(spec, embedOpt){\n",
       "    let outputDiv = document.currentScript.previousElementSibling;\n",
       "    if (outputDiv.id !== \"altair-viz-25bed054dfb1492398435f3e01c9778a\") {\n",
       "      outputDiv = document.getElementById(\"altair-viz-25bed054dfb1492398435f3e01c9778a\");\n",
       "    }\n",
       "\n",
       "    const paths = {\n",
       "      \"vega\": \"https://cdn.jsdelivr.net/npm/vega@5?noext\",\n",
       "      \"vega-lib\": \"https://cdn.jsdelivr.net/npm/vega-lib?noext\",\n",
       "      \"vega-lite\": \"https://cdn.jsdelivr.net/npm/vega-lite@5.20.1?noext\",\n",
       "      \"vega-embed\": \"https://cdn.jsdelivr.net/npm/vega-embed@6?noext\",\n",
       "    };\n",
       "\n",
       "    function maybeLoadScript(lib, version) {\n",
       "      var key = `${lib.replace(\"-\", \"\")}_version`;\n",
       "      return (VEGA_DEBUG[key] == version) ?\n",
       "        Promise.resolve(paths[lib]) :\n",
       "        new Promise(function(resolve, reject) {\n",
       "          var s = document.createElement('script');\n",
       "          document.getElementsByTagName(\"head\")[0].appendChild(s);\n",
       "          s.async = true;\n",
       "          s.onload = () => {\n",
       "            VEGA_DEBUG[key] = version;\n",
       "            return resolve(paths[lib]);\n",
       "          };\n",
       "          s.onerror = () => reject(`Error loading script: ${paths[lib]}`);\n",
       "          s.src = paths[lib];\n",
       "        });\n",
       "    }\n",
       "\n",
       "    function showError(err) {\n",
       "      outputDiv.innerHTML = `<div class=\"error\" style=\"color:red;\">${err}</div>`;\n",
       "      throw err;\n",
       "    }\n",
       "\n",
       "    function displayChart(vegaEmbed) {\n",
       "      vegaEmbed(outputDiv, spec, embedOpt)\n",
       "        .catch(err => showError(`Javascript Error: ${err.message}<br>This usually means there's a typo in your chart specification. See the javascript console for the full traceback.`));\n",
       "    }\n",
       "\n",
       "    if(typeof define === \"function\" && define.amd) {\n",
       "      requirejs.config({paths});\n",
       "      let deps = [\"vega-embed\"];\n",
       "      require(deps, displayChart, err => showError(`Error loading script: ${err.message}`));\n",
       "    } else {\n",
       "      maybeLoadScript(\"vega\", \"5\")\n",
       "        .then(() => maybeLoadScript(\"vega-lite\", \"5.20.1\"))\n",
       "        .then(() => maybeLoadScript(\"vega-embed\", \"6\"))\n",
       "        .catch(showError)\n",
       "        .then(() => displayChart(vegaEmbed));\n",
       "    }\n",
       "  })({\"config\": {\"view\": {\"continuousWidth\": 300, \"continuousHeight\": 300}, \"legend\": {\"labelFontSize\": 18, \"titleFontSize\": 18}}, \"data\": {\"name\": \"data-82d8cac2a381afe05679869b60c1af51\"}, \"mark\": {\"type\": \"area\"}, \"encoding\": {\"fill\": {\"field\": \"set_of_strains\", \"legend\": {\"labelLimit\": 500, \"orient\": \"right\", \"titleOrient\": \"top\"}, \"scale\": {\"range\": [\"#345995\", \"#03cea4\", \"#ca1551\", \"#eac435\"]}, \"title\": \"set of strains\", \"type\": \"nominal\"}, \"row\": {\"field\": \"statistic\", \"header\": {\"labelFontSize\": 18, \"labelFontStyle\": \"bold\", \"orient\": \"left\", \"titleFontSize\": 18}, \"title\": null, \"type\": \"nominal\"}, \"tooltip\": [{\"field\": \"set_of_strains\", \"type\": \"nominal\"}, {\"field\": \"date\", \"type\": \"temporal\"}, {\"field\": \"statistic\", \"type\": \"nominal\"}, {\"field\": \"count_or_fraction\", \"format\": \".2f\", \"type\": \"quantitative\"}], \"x\": {\"axis\": {\"format\": \"%b-%Y\", \"grid\": false, \"labelAngle\": -90, \"labelFontSize\": 18, \"tickCount\": 100, \"tickSize\": 0, \"titleFontSize\": 18}, \"field\": \"date\", \"title\": null, \"type\": \"temporal\"}, \"y\": {\"axis\": {\"grid\": false, \"labelFontSize\": 18, \"titleFontSize\": 18}, \"field\": \"count_or_fraction\", \"scale\": {\"nice\": false}, \"title\": null, \"type\": \"quantitative\"}}, \"height\": 160, \"resolve\": {\"scale\": {\"y\": \"independent\"}}, \"title\": {\"text\": [\"sequences in each set of strains (rolling mean +/- 10 days)\", \"from h3/h3-gisaid-ha1-within1_counts_by_date.csv\"], \"anchor\": \"middle\", \"dx\": -50, \"fontSize\": 18}, \"transform\": [{\"window\": [{\"op\": \"mean\", \"field\": \"sequences\", \"as\": \"count\"}], \"frame\": [-10, 10], \"groupby\": [\"set_of_strains\"]}, {\"joinaggregate\": [{\"op\": \"sum\", \"field\": \"count\", \"as\": \"total_count\"}], \"groupby\": [\"date\"]}, {\"calculate\": \"(datum.count / datum.total_count)\", \"as\": \"fraction\"}, {\"fold\": [\"count\", \"fraction\"], \"as\": [\"statistic\", \"count_or_fraction\"]}], \"width\": 450, \"$schema\": \"https://vega.github.io/schema/vega-lite/v5.20.1.json\", \"datasets\": {\"data-82d8cac2a381afe05679869b60c1af51\": [{\"set_of_strains\": \"library strains\", \"date\": \"2024-04-01T00:00:00\", \"sequences\": 44.0}, {\"set_of_strains\": \"library strains\", \"date\": \"2024-04-02T00:00:00\", \"sequences\": 25.0}, {\"set_of_strains\": \"library strains\", \"date\": \"2024-04-03T00:00:00\", \"sequences\": 36.0}, {\"set_of_strains\": \"library strains\", \"date\": \"2024-04-04T00:00:00\", \"sequences\": 25.0}, {\"set_of_strains\": \"library strains\", \"date\": \"2024-04-05T00:00:00\", \"sequences\": 25.0}, {\"set_of_strains\": \"library strains\", \"date\": \"2024-04-06T00:00:00\", \"sequences\": 14.0}, {\"set_of_strains\": \"library strains\", \"date\": \"2024-04-07T00:00:00\", \"sequences\": 13.0}, {\"set_of_strains\": \"library strains\", \"date\": \"2024-04-08T00:00:00\", \"sequences\": 43.0}, {\"set_of_strains\": \"library strains\", \"date\": \"2024-04-09T00:00:00\", \"sequences\": 48.0}, {\"set_of_strains\": \"library strains\", \"date\": \"2024-04-10T00:00:00\", \"sequences\": 22.0}, {\"set_of_strains\": \"library strains\", \"date\": \"2024-04-11T00:00:00\", \"sequences\": 17.0}, {\"set_of_strains\": \"library strains\", \"date\": \"2024-04-12T00:00:00\", \"sequences\": 26.0}, {\"set_of_strains\": \"library strains\", \"date\": \"2024-04-13T00:00:00\", \"sequences\": 14.0}, {\"set_of_strains\": \"library strains\", \"date\": \"2024-04-14T00:00:00\", \"sequences\": 13.0}, {\"set_of_strains\": \"library strains\", \"date\": \"2024-04-15T00:00:00\", \"sequences\": 38.0}, {\"set_of_strains\": \"library strains\", \"date\": \"2024-04-16T00:00:00\", \"sequences\": 22.0}, {\"set_of_strains\": \"library strains\", \"date\": \"2024-04-17T00:00:00\", \"sequences\": 26.0}, {\"set_of_strains\": \"library strains\", \"date\": \"2024-04-18T00:00:00\", \"sequences\": 11.0}, {\"set_of_strains\": \"library strains\", \"date\": \"2024-04-19T00:00:00\", \"sequences\": 14.0}, {\"set_of_strains\": \"library strains\", \"date\": \"2024-04-20T00:00:00\", \"sequences\": 12.0}, {\"set_of_strains\": \"library strains\", \"date\": \"2024-04-21T00:00:00\", \"sequences\": 10.0}, {\"set_of_strains\": \"library strains\", \"date\": \"2024-04-22T00:00:00\", \"sequences\": 28.0}, {\"set_of_strains\": \"library strains\", \"date\": \"2024-04-23T00:00:00\", \"sequences\": 20.0}, {\"set_of_strains\": \"library strains\", \"date\": \"2024-04-24T00:00:00\", \"sequences\": 26.0}, {\"set_of_strains\": \"library strains\", \"date\": \"2024-04-25T00:00:00\", \"sequences\": 13.0}, {\"set_of_strains\": \"library strains\", \"date\": \"2024-04-26T00:00:00\", \"sequences\": 22.0}, {\"set_of_strains\": \"library strains\", \"date\": \"2024-04-27T00:00:00\", \"sequences\": 12.0}, {\"set_of_strains\": \"library strains\", \"date\": \"2024-04-28T00:00:00\", \"sequences\": 10.0}, {\"set_of_strains\": \"library strains\", \"date\": \"2024-04-29T00:00:00\", \"sequences\": 33.0}, {\"set_of_strains\": \"library strains\", \"date\": \"2024-04-30T00:00:00\", \"sequences\": 22.0}, {\"set_of_strains\": \"library strains\", \"date\": \"2024-05-01T00:00:00\", \"sequences\": 10.0}, {\"set_of_strains\": \"library strains\", \"date\": \"2024-05-02T00:00:00\", \"sequences\": 11.0}, {\"set_of_strains\": \"library strains\", \"date\": \"2024-05-03T00:00:00\", \"sequences\": 18.0}, {\"set_of_strains\": \"library strains\", \"date\": \"2024-05-04T00:00:00\", \"sequences\": 11.0}, {\"set_of_strains\": \"library strains\", \"date\": \"2024-05-05T00:00:00\", \"sequences\": 16.0}, {\"set_of_strains\": \"library strains\", \"date\": \"2024-05-06T00:00:00\", \"sequences\": 31.0}, {\"set_of_strains\": \"library strains\", \"date\": \"2024-05-07T00:00:00\", \"sequences\": 29.0}, {\"set_of_strains\": \"library strains\", \"date\": \"2024-05-08T00:00:00\", \"sequences\": 23.0}, {\"set_of_strains\": \"library strains\", \"date\": \"2024-05-09T00:00:00\", \"sequences\": 17.0}, {\"set_of_strains\": \"library strains\", \"date\": \"2024-05-10T00:00:00\", \"sequences\": 18.0}, {\"set_of_strains\": \"library strains\", \"date\": \"2024-05-11T00:00:00\", \"sequences\": 12.0}, {\"set_of_strains\": \"library strains\", \"date\": \"2024-05-12T00:00:00\", \"sequences\": 16.0}, {\"set_of_strains\": \"library strains\", \"date\": \"2024-05-13T00:00:00\", \"sequences\": 24.0}, {\"set_of_strains\": \"library strains\", \"date\": \"2024-05-14T00:00:00\", \"sequences\": 20.0}, {\"set_of_strains\": \"library strains\", \"date\": \"2024-05-15T00:00:00\", \"sequences\": 17.0}, {\"set_of_strains\": \"library strains\", \"date\": \"2024-05-16T00:00:00\", \"sequences\": 14.0}, {\"set_of_strains\": \"library strains\", \"date\": \"2024-05-17T00:00:00\", \"sequences\": 14.0}, {\"set_of_strains\": \"library strains\", \"date\": \"2024-05-18T00:00:00\", \"sequences\": 4.0}, {\"set_of_strains\": \"library strains\", \"date\": \"2024-05-19T00:00:00\", \"sequences\": 16.0}, {\"set_of_strains\": \"library strains\", \"date\": \"2024-05-20T00:00:00\", \"sequences\": 30.0}, {\"set_of_strains\": \"library strains\", \"date\": \"2024-05-21T00:00:00\", \"sequences\": 28.0}, {\"set_of_strains\": \"library strains\", \"date\": \"2024-05-22T00:00:00\", \"sequences\": 26.0}, {\"set_of_strains\": \"library strains\", \"date\": \"2024-05-23T00:00:00\", \"sequences\": 24.0}, {\"set_of_strains\": \"library strains\", \"date\": \"2024-05-24T00:00:00\", \"sequences\": 27.0}, {\"set_of_strains\": \"library strains\", \"date\": \"2024-05-25T00:00:00\", \"sequences\": 12.0}, {\"set_of_strains\": \"library strains\", \"date\": \"2024-05-26T00:00:00\", \"sequences\": 14.0}, {\"set_of_strains\": \"library strains\", \"date\": \"2024-05-27T00:00:00\", \"sequences\": 16.0}, {\"set_of_strains\": \"library strains\", \"date\": \"2024-05-28T00:00:00\", \"sequences\": 19.0}, {\"set_of_strains\": \"library strains\", \"date\": \"2024-05-29T00:00:00\", \"sequences\": 26.0}, {\"set_of_strains\": \"library strains\", \"date\": \"2024-05-30T00:00:00\", \"sequences\": 15.0}, {\"set_of_strains\": \"library strains\", \"date\": \"2024-05-31T00:00:00\", \"sequences\": 20.0}, {\"set_of_strains\": \"library strains\", \"date\": \"2024-06-01T00:00:00\", \"sequences\": 13.0}, {\"set_of_strains\": \"library strains\", \"date\": \"2024-06-02T00:00:00\", \"sequences\": 19.0}, {\"set_of_strains\": \"library strains\", \"date\": \"2024-06-03T00:00:00\", \"sequences\": 24.0}, {\"set_of_strains\": \"library strains\", \"date\": \"2024-06-04T00:00:00\", \"sequences\": 25.0}, {\"set_of_strains\": \"library strains\", \"date\": \"2024-06-05T00:00:00\", \"sequences\": 22.0}, {\"set_of_strains\": \"library strains\", \"date\": \"2024-06-06T00:00:00\", \"sequences\": 24.0}, {\"set_of_strains\": \"library strains\", \"date\": \"2024-06-07T00:00:00\", \"sequences\": 13.0}, {\"set_of_strains\": \"library strains\", \"date\": \"2024-06-08T00:00:00\", \"sequences\": 12.0}, {\"set_of_strains\": \"library strains\", \"date\": \"2024-06-09T00:00:00\", \"sequences\": 12.0}, {\"set_of_strains\": \"library strains\", \"date\": \"2024-06-10T00:00:00\", \"sequences\": 28.0}, {\"set_of_strains\": \"library strains\", \"date\": \"2024-06-11T00:00:00\", \"sequences\": 28.0}, {\"set_of_strains\": \"library strains\", \"date\": \"2024-06-12T00:00:00\", \"sequences\": 24.0}, {\"set_of_strains\": \"library strains\", \"date\": \"2024-06-13T00:00:00\", \"sequences\": 12.0}, {\"set_of_strains\": \"library strains\", \"date\": \"2024-06-14T00:00:00\", \"sequences\": 19.0}, {\"set_of_strains\": \"library strains\", \"date\": \"2024-06-15T00:00:00\", \"sequences\": 15.0}, {\"set_of_strains\": \"library strains\", \"date\": \"2024-06-16T00:00:00\", \"sequences\": 11.0}, {\"set_of_strains\": \"library strains\", \"date\": \"2024-06-17T00:00:00\", \"sequences\": 32.0}, {\"set_of_strains\": \"library strains\", \"date\": \"2024-06-18T00:00:00\", \"sequences\": 27.0}, {\"set_of_strains\": \"library strains\", \"date\": \"2024-06-19T00:00:00\", \"sequences\": 37.0}, {\"set_of_strains\": \"library strains\", \"date\": \"2024-06-20T00:00:00\", \"sequences\": 21.0}, {\"set_of_strains\": \"library strains\", \"date\": \"2024-06-21T00:00:00\", \"sequences\": 20.0}, {\"set_of_strains\": \"library strains\", \"date\": \"2024-06-22T00:00:00\", \"sequences\": 15.0}, {\"set_of_strains\": \"library strains\", \"date\": \"2024-06-23T00:00:00\", \"sequences\": 10.0}, {\"set_of_strains\": \"library strains\", \"date\": \"2024-06-24T00:00:00\", \"sequences\": 46.0}, {\"set_of_strains\": \"library strains\", \"date\": \"2024-06-25T00:00:00\", \"sequences\": 34.0}, {\"set_of_strains\": \"library strains\", \"date\": \"2024-06-26T00:00:00\", \"sequences\": 20.0}, {\"set_of_strains\": \"library strains\", \"date\": \"2024-06-27T00:00:00\", \"sequences\": 17.0}, {\"set_of_strains\": \"library strains\", \"date\": \"2024-06-28T00:00:00\", \"sequences\": 21.0}, {\"set_of_strains\": \"library strains\", \"date\": \"2024-06-29T00:00:00\", \"sequences\": 15.0}, {\"set_of_strains\": \"library strains\", \"date\": \"2024-06-30T00:00:00\", \"sequences\": 16.0}, {\"set_of_strains\": \"library strains\", \"date\": \"2024-07-01T00:00:00\", \"sequences\": 26.0}, {\"set_of_strains\": \"library strains\", \"date\": \"2024-07-02T00:00:00\", \"sequences\": 33.0}, {\"set_of_strains\": \"library strains\", \"date\": \"2024-07-03T00:00:00\", \"sequences\": 25.0}, {\"set_of_strains\": \"library strains\", \"date\": \"2024-07-04T00:00:00\", \"sequences\": 20.0}, {\"set_of_strains\": \"library strains\", \"date\": \"2024-07-05T00:00:00\", \"sequences\": 22.0}, {\"set_of_strains\": \"library strains\", \"date\": \"2024-07-06T00:00:00\", \"sequences\": 16.0}, {\"set_of_strains\": \"library strains\", \"date\": \"2024-07-07T00:00:00\", \"sequences\": 10.0}, {\"set_of_strains\": \"library strains\", \"date\": \"2024-07-08T00:00:00\", \"sequences\": 22.0}, {\"set_of_strains\": \"library strains\", \"date\": \"2024-07-09T00:00:00\", \"sequences\": 32.0}, {\"set_of_strains\": \"library strains\", \"date\": \"2024-07-10T00:00:00\", \"sequences\": 35.0}, {\"set_of_strains\": \"library strains\", \"date\": \"2024-07-11T00:00:00\", \"sequences\": 16.0}, {\"set_of_strains\": \"library strains\", \"date\": \"2024-07-12T00:00:00\", \"sequences\": 17.0}, {\"set_of_strains\": \"library strains\", \"date\": \"2024-07-13T00:00:00\", \"sequences\": 5.0}, {\"set_of_strains\": \"library strains\", \"date\": \"2024-07-14T00:00:00\", \"sequences\": 11.0}, {\"set_of_strains\": \"library strains\", \"date\": \"2024-07-15T00:00:00\", \"sequences\": 40.0}, {\"set_of_strains\": \"library strains\", \"date\": \"2024-07-16T00:00:00\", \"sequences\": 26.0}, {\"set_of_strains\": \"library strains\", \"date\": \"2024-07-17T00:00:00\", \"sequences\": 37.0}, {\"set_of_strains\": \"library strains\", \"date\": \"2024-07-18T00:00:00\", \"sequences\": 30.0}, {\"set_of_strains\": \"library strains\", \"date\": \"2024-07-19T00:00:00\", \"sequences\": 24.0}, {\"set_of_strains\": \"library strains\", \"date\": \"2024-07-20T00:00:00\", \"sequences\": 9.0}, {\"set_of_strains\": \"library strains\", \"date\": \"2024-07-21T00:00:00\", \"sequences\": 7.0}, {\"set_of_strains\": \"library strains\", \"date\": \"2024-07-22T00:00:00\", \"sequences\": 26.0}, {\"set_of_strains\": \"library strains\", \"date\": \"2024-07-23T00:00:00\", \"sequences\": 25.0}, {\"set_of_strains\": \"library strains\", \"date\": \"2024-07-24T00:00:00\", \"sequences\": 16.0}, {\"set_of_strains\": \"library strains\", \"date\": \"2024-07-25T00:00:00\", \"sequences\": 10.0}, {\"set_of_strains\": \"library strains\", \"date\": \"2024-07-26T00:00:00\", \"sequences\": 23.0}, {\"set_of_strains\": \"library strains\", \"date\": \"2024-07-27T00:00:00\", \"sequences\": 9.0}, {\"set_of_strains\": \"library strains\", \"date\": \"2024-07-28T00:00:00\", \"sequences\": 14.0}, {\"set_of_strains\": \"library strains\", \"date\": \"2024-07-29T00:00:00\", \"sequences\": 15.0}, {\"set_of_strains\": \"library strains\", \"date\": \"2024-07-30T00:00:00\", \"sequences\": 26.0}, {\"set_of_strains\": \"library strains\", \"date\": \"2024-07-31T00:00:00\", \"sequences\": 28.0}, {\"set_of_strains\": \"library strains\", \"date\": \"2024-08-01T00:00:00\", \"sequences\": 32.0}, {\"set_of_strains\": \"library strains\", \"date\": \"2024-08-02T00:00:00\", \"sequences\": 14.0}, {\"set_of_strains\": \"library strains\", \"date\": \"2024-08-03T00:00:00\", \"sequences\": 12.0}, {\"set_of_strains\": \"library strains\", \"date\": \"2024-08-04T00:00:00\", \"sequences\": 12.0}, {\"set_of_strains\": \"library strains\", \"date\": \"2024-08-05T00:00:00\", \"sequences\": 30.0}, {\"set_of_strains\": \"library strains\", \"date\": \"2024-08-06T00:00:00\", \"sequences\": 18.0}, {\"set_of_strains\": \"library strains\", \"date\": \"2024-08-07T00:00:00\", \"sequences\": 26.0}, {\"set_of_strains\": \"library strains\", \"date\": \"2024-08-08T00:00:00\", \"sequences\": 20.0}, {\"set_of_strains\": \"library strains\", \"date\": \"2024-08-09T00:00:00\", \"sequences\": 19.0}, {\"set_of_strains\": \"library strains\", \"date\": \"2024-08-10T00:00:00\", \"sequences\": 6.0}, {\"set_of_strains\": \"library strains\", \"date\": \"2024-08-11T00:00:00\", \"sequences\": 11.0}, {\"set_of_strains\": \"library strains\", \"date\": \"2024-08-12T00:00:00\", \"sequences\": 39.0}, {\"set_of_strains\": \"library strains\", \"date\": \"2024-08-13T00:00:00\", \"sequences\": 16.0}, {\"set_of_strains\": \"library strains\", \"date\": \"2024-08-14T00:00:00\", \"sequences\": 30.0}, {\"set_of_strains\": \"library strains\", \"date\": \"2024-08-15T00:00:00\", \"sequences\": 17.0}, {\"set_of_strains\": \"library strains\", \"date\": \"2024-08-16T00:00:00\", \"sequences\": 12.0}, {\"set_of_strains\": \"library strains\", \"date\": \"2024-08-17T00:00:00\", \"sequences\": 9.0}, {\"set_of_strains\": \"library strains\", \"date\": \"2024-08-18T00:00:00\", \"sequences\": 8.0}, {\"set_of_strains\": \"library strains\", \"date\": \"2024-08-19T00:00:00\", \"sequences\": 24.0}, {\"set_of_strains\": \"library strains\", \"date\": \"2024-08-20T00:00:00\", \"sequences\": 21.0}, {\"set_of_strains\": \"library strains\", \"date\": \"2024-08-21T00:00:00\", \"sequences\": 12.0}, {\"set_of_strains\": \"library strains\", \"date\": \"2024-08-22T00:00:00\", \"sequences\": 20.0}, {\"set_of_strains\": \"library strains\", \"date\": \"2024-08-23T00:00:00\", \"sequences\": 18.0}, {\"set_of_strains\": \"library strains\", \"date\": \"2024-08-24T00:00:00\", \"sequences\": 11.0}, {\"set_of_strains\": \"library strains\", \"date\": \"2024-08-25T00:00:00\", \"sequences\": 15.0}, {\"set_of_strains\": \"library strains\", \"date\": \"2024-08-26T00:00:00\", \"sequences\": 21.0}, {\"set_of_strains\": \"library strains\", \"date\": \"2024-08-27T00:00:00\", \"sequences\": 23.0}, {\"set_of_strains\": \"library strains\", \"date\": \"2024-08-28T00:00:00\", \"sequences\": 20.0}, {\"set_of_strains\": \"library strains\", \"date\": \"2024-08-29T00:00:00\", \"sequences\": 26.0}, {\"set_of_strains\": \"library strains\", \"date\": \"2024-08-30T00:00:00\", \"sequences\": 10.0}, {\"set_of_strains\": \"library strains\", \"date\": \"2024-08-31T00:00:00\", \"sequences\": 7.0}, {\"set_of_strains\": \"library strains\", \"date\": \"2024-09-01T00:00:00\", \"sequences\": 10.0}, {\"set_of_strains\": \"library strains\", \"date\": \"2024-09-02T00:00:00\", \"sequences\": 18.0}, {\"set_of_strains\": \"library strains\", \"date\": \"2024-09-03T00:00:00\", \"sequences\": 20.0}, {\"set_of_strains\": \"library strains\", \"date\": \"2024-09-04T00:00:00\", \"sequences\": 27.0}, {\"set_of_strains\": \"library strains\", \"date\": \"2024-09-05T00:00:00\", \"sequences\": 16.0}, {\"set_of_strains\": \"library strains\", \"date\": \"2024-09-06T00:00:00\", \"sequences\": 16.0}, {\"set_of_strains\": \"library strains\", \"date\": \"2024-09-07T00:00:00\", \"sequences\": 16.0}, {\"set_of_strains\": \"library strains\", \"date\": \"2024-09-08T00:00:00\", \"sequences\": 10.0}, {\"set_of_strains\": \"library strains\", \"date\": \"2024-09-09T00:00:00\", \"sequences\": 21.0}, {\"set_of_strains\": \"library strains\", \"date\": \"2024-09-10T00:00:00\", \"sequences\": 13.0}, {\"set_of_strains\": \"library strains\", \"date\": \"2024-09-11T00:00:00\", \"sequences\": 25.0}, {\"set_of_strains\": \"library strains\", \"date\": \"2024-09-12T00:00:00\", \"sequences\": 24.0}, {\"set_of_strains\": \"library strains\", \"date\": \"2024-09-13T00:00:00\", \"sequences\": 11.0}, {\"set_of_strains\": \"library strains\", \"date\": \"2024-09-14T00:00:00\", \"sequences\": 9.0}, {\"set_of_strains\": \"library strains\", \"date\": \"2024-09-15T00:00:00\", \"sequences\": 12.0}, {\"set_of_strains\": \"library strains\", \"date\": \"2024-09-16T00:00:00\", \"sequences\": 21.0}, {\"set_of_strains\": \"library strains\", \"date\": \"2024-09-17T00:00:00\", \"sequences\": 17.0}, {\"set_of_strains\": \"library strains\", \"date\": \"2024-09-18T00:00:00\", \"sequences\": 14.0}, {\"set_of_strains\": \"library strains\", \"date\": \"2024-09-19T00:00:00\", \"sequences\": 9.0}, {\"set_of_strains\": \"library strains\", \"date\": \"2024-09-20T00:00:00\", \"sequences\": 14.0}, {\"set_of_strains\": \"library strains\", \"date\": \"2024-09-21T00:00:00\", \"sequences\": 8.0}, {\"set_of_strains\": \"library strains\", \"date\": \"2024-09-22T00:00:00\", \"sequences\": 13.0}, {\"set_of_strains\": \"library strains\", \"date\": \"2024-09-23T00:00:00\", \"sequences\": 20.0}, {\"set_of_strains\": \"library strains\", \"date\": \"2024-09-24T00:00:00\", \"sequences\": 14.0}, {\"set_of_strains\": \"library strains\", \"date\": \"2024-09-25T00:00:00\", \"sequences\": 7.0}, {\"set_of_strains\": \"library strains\", \"date\": \"2024-09-26T00:00:00\", \"sequences\": 11.0}, {\"set_of_strains\": \"library strains\", \"date\": \"2024-09-27T00:00:00\", \"sequences\": 8.0}, {\"set_of_strains\": \"library strains\", \"date\": \"2024-09-28T00:00:00\", \"sequences\": 1.0}, {\"set_of_strains\": \"library strains\", \"date\": \"2024-09-29T00:00:00\", \"sequences\": 5.0}, {\"set_of_strains\": \"library strains\", \"date\": \"2024-09-30T00:00:00\", \"sequences\": 11.0}, {\"set_of_strains\": \"library strains\", \"date\": \"2024-10-01T00:00:00\", \"sequences\": 24.0}, {\"set_of_strains\": \"library strains\", \"date\": \"2024-10-02T00:00:00\", \"sequences\": 27.0}, {\"set_of_strains\": \"library strains\", \"date\": \"2024-10-03T00:00:00\", \"sequences\": 22.0}, {\"set_of_strains\": \"library strains\", \"date\": \"2024-10-04T00:00:00\", \"sequences\": 21.0}, {\"set_of_strains\": \"library strains\", \"date\": \"2024-10-05T00:00:00\", \"sequences\": 5.0}, {\"set_of_strains\": \"library strains\", \"date\": \"2024-10-06T00:00:00\", \"sequences\": 12.0}, {\"set_of_strains\": \"library strains\", \"date\": \"2024-10-07T00:00:00\", \"sequences\": 23.0}, {\"set_of_strains\": \"library strains\", \"date\": \"2024-10-08T00:00:00\", \"sequences\": 11.0}, {\"set_of_strains\": \"library strains\", \"date\": \"2024-10-09T00:00:00\", \"sequences\": 21.0}, {\"set_of_strains\": \"library strains\", \"date\": \"2024-10-10T00:00:00\", \"sequences\": 12.0}, {\"set_of_strains\": \"library strains\", \"date\": \"2024-10-11T00:00:00\", \"sequences\": 15.0}, {\"set_of_strains\": \"library strains\", \"date\": \"2024-10-12T00:00:00\", \"sequences\": 4.0}, {\"set_of_strains\": \"library strains\", \"date\": \"2024-10-13T00:00:00\", \"sequences\": 14.0}, {\"set_of_strains\": \"library strains\", \"date\": \"2024-10-14T00:00:00\", \"sequences\": 20.0}, {\"set_of_strains\": \"library strains\", \"date\": \"2024-10-15T00:00:00\", \"sequences\": 27.0}, {\"set_of_strains\": \"library strains\", \"date\": \"2024-10-16T00:00:00\", \"sequences\": 21.0}, {\"set_of_strains\": \"library strains\", \"date\": \"2024-10-17T00:00:00\", \"sequences\": 18.0}, {\"set_of_strains\": \"library strains\", \"date\": \"2024-10-18T00:00:00\", \"sequences\": 25.0}, {\"set_of_strains\": \"library strains\", \"date\": \"2024-10-19T00:00:00\", \"sequences\": 14.0}, {\"set_of_strains\": \"library strains\", \"date\": \"2024-10-20T00:00:00\", \"sequences\": 10.0}, {\"set_of_strains\": \"library strains\", \"date\": \"2024-10-21T00:00:00\", \"sequences\": 20.0}, {\"set_of_strains\": \"library strains\", \"date\": \"2024-10-22T00:00:00\", \"sequences\": 26.0}, {\"set_of_strains\": \"library strains\", \"date\": \"2024-10-23T00:00:00\", \"sequences\": 25.0}, {\"set_of_strains\": \"library strains\", \"date\": \"2024-10-24T00:00:00\", \"sequences\": 20.0}, {\"set_of_strains\": \"library strains\", \"date\": \"2024-10-25T00:00:00\", \"sequences\": 18.0}, {\"set_of_strains\": \"library strains\", \"date\": \"2024-10-26T00:00:00\", \"sequences\": 9.0}, {\"set_of_strains\": \"library strains\", \"date\": \"2024-10-27T00:00:00\", \"sequences\": 17.0}, {\"set_of_strains\": \"library strains\", \"date\": \"2024-10-28T00:00:00\", \"sequences\": 31.0}, {\"set_of_strains\": \"library strains\", \"date\": \"2024-10-29T00:00:00\", \"sequences\": 25.0}, {\"set_of_strains\": \"library strains\", \"date\": \"2024-10-30T00:00:00\", \"sequences\": 28.0}, {\"set_of_strains\": \"library strains\", \"date\": \"2024-10-31T00:00:00\", \"sequences\": 17.0}, {\"set_of_strains\": \"library strains\", \"date\": \"2024-11-01T00:00:00\", \"sequences\": 30.0}, {\"set_of_strains\": \"library strains\", \"date\": \"2024-11-02T00:00:00\", \"sequences\": 26.0}, {\"set_of_strains\": \"library strains\", \"date\": \"2024-11-03T00:00:00\", \"sequences\": 13.0}, {\"set_of_strains\": \"library strains\", \"date\": \"2024-11-04T00:00:00\", \"sequences\": 41.0}, {\"set_of_strains\": \"library strains\", \"date\": \"2024-11-05T00:00:00\", \"sequences\": 35.0}, {\"set_of_strains\": \"library strains\", \"date\": \"2024-11-06T00:00:00\", \"sequences\": 32.0}, {\"set_of_strains\": \"library strains\", \"date\": \"2024-11-07T00:00:00\", \"sequences\": 25.0}, {\"set_of_strains\": \"library strains\", \"date\": \"2024-11-08T00:00:00\", \"sequences\": 29.0}, {\"set_of_strains\": \"library strains\", \"date\": \"2024-11-09T00:00:00\", \"sequences\": 19.0}, {\"set_of_strains\": \"library strains\", \"date\": \"2024-11-10T00:00:00\", \"sequences\": 25.0}, {\"set_of_strains\": \"library strains\", \"date\": \"2024-11-11T00:00:00\", \"sequences\": 40.0}, {\"set_of_strains\": \"library strains\", \"date\": \"2024-11-12T00:00:00\", \"sequences\": 38.0}, {\"set_of_strains\": \"library strains\", \"date\": \"2024-11-13T00:00:00\", \"sequences\": 40.0}, {\"set_of_strains\": \"library strains\", \"date\": \"2024-11-14T00:00:00\", \"sequences\": 36.0}, {\"set_of_strains\": \"library strains\", \"date\": \"2024-11-15T00:00:00\", \"sequences\": 25.0}, {\"set_of_strains\": \"library strains\", \"date\": \"2024-11-16T00:00:00\", \"sequences\": 24.0}, {\"set_of_strains\": \"library strains\", \"date\": \"2024-11-17T00:00:00\", \"sequences\": 25.0}, {\"set_of_strains\": \"library strains\", \"date\": \"2024-11-18T00:00:00\", \"sequences\": 41.0}, {\"set_of_strains\": \"library strains\", \"date\": \"2024-11-19T00:00:00\", \"sequences\": 47.0}, {\"set_of_strains\": \"library strains\", \"date\": \"2024-11-20T00:00:00\", \"sequences\": 44.0}, {\"set_of_strains\": \"library strains\", \"date\": \"2024-11-21T00:00:00\", \"sequences\": 32.0}, {\"set_of_strains\": \"library strains\", \"date\": \"2024-11-22T00:00:00\", \"sequences\": 39.0}, {\"set_of_strains\": \"library strains\", \"date\": \"2024-11-23T00:00:00\", \"sequences\": 39.0}, {\"set_of_strains\": \"library strains\", \"date\": \"2024-11-24T00:00:00\", \"sequences\": 42.0}, {\"set_of_strains\": \"library strains\", \"date\": \"2024-11-25T00:00:00\", \"sequences\": 71.0}, {\"set_of_strains\": \"library strains\", \"date\": \"2024-11-26T00:00:00\", \"sequences\": 49.0}, {\"set_of_strains\": \"library strains\", \"date\": \"2024-11-27T00:00:00\", \"sequences\": 44.0}, {\"set_of_strains\": \"library strains\", \"date\": \"2024-11-28T00:00:00\", \"sequences\": 43.0}, {\"set_of_strains\": \"library strains\", \"date\": \"2024-11-29T00:00:00\", \"sequences\": 55.0}, {\"set_of_strains\": \"library strains\", \"date\": \"2024-11-30T00:00:00\", \"sequences\": 41.0}, {\"set_of_strains\": \"library strains\", \"date\": \"2024-12-01T00:00:00\", \"sequences\": 62.0}, {\"set_of_strains\": \"library strains\", \"date\": \"2024-12-02T00:00:00\", \"sequences\": 72.0}, {\"set_of_strains\": \"library strains\", \"date\": \"2024-12-03T00:00:00\", \"sequences\": 71.0}, {\"set_of_strains\": \"library strains\", \"date\": \"2024-12-04T00:00:00\", \"sequences\": 56.0}, {\"set_of_strains\": \"library strains\", \"date\": \"2024-12-05T00:00:00\", \"sequences\": 53.0}, {\"set_of_strains\": \"library strains\", \"date\": \"2024-12-06T00:00:00\", \"sequences\": 45.0}, {\"set_of_strains\": \"library strains\", \"date\": \"2024-12-07T00:00:00\", \"sequences\": 38.0}, {\"set_of_strains\": \"library strains\", \"date\": \"2024-12-08T00:00:00\", \"sequences\": 47.0}, {\"set_of_strains\": \"library strains\", \"date\": \"2024-12-09T00:00:00\", \"sequences\": 88.0}, {\"set_of_strains\": \"library strains\", \"date\": \"2024-12-10T00:00:00\", \"sequences\": 86.0}, {\"set_of_strains\": \"library strains\", \"date\": \"2024-12-11T00:00:00\", \"sequences\": 91.0}, {\"set_of_strains\": \"library strains\", \"date\": \"2024-12-12T00:00:00\", \"sequences\": 71.0}, {\"set_of_strains\": \"library strains\", \"date\": \"2024-12-13T00:00:00\", \"sequences\": 74.0}, {\"set_of_strains\": \"library strains\", \"date\": \"2024-12-14T00:00:00\", \"sequences\": 47.0}, {\"set_of_strains\": \"library strains\", \"date\": \"2024-12-15T00:00:00\", \"sequences\": 56.0}, {\"set_of_strains\": \"library strains\", \"date\": \"2024-12-16T00:00:00\", \"sequences\": 145.0}, {\"set_of_strains\": \"library strains\", \"date\": \"2024-12-17T00:00:00\", \"sequences\": 108.0}, {\"set_of_strains\": \"library strains\", \"date\": \"2024-12-18T00:00:00\", \"sequences\": 96.0}, {\"set_of_strains\": \"library strains\", \"date\": \"2024-12-19T00:00:00\", \"sequences\": 99.0}, {\"set_of_strains\": \"library strains\", \"date\": \"2024-12-20T00:00:00\", \"sequences\": 81.0}, {\"set_of_strains\": \"library strains\", \"date\": \"2024-12-21T00:00:00\", \"sequences\": 38.0}, {\"set_of_strains\": \"library strains\", \"date\": \"2024-12-22T00:00:00\", \"sequences\": 52.0}, {\"set_of_strains\": \"library strains\", \"date\": \"2024-12-23T00:00:00\", \"sequences\": 97.0}, {\"set_of_strains\": \"library strains\", \"date\": \"2024-12-24T00:00:00\", \"sequences\": 82.0}, {\"set_of_strains\": \"library strains\", \"date\": \"2024-12-25T00:00:00\", \"sequences\": 56.0}, {\"set_of_strains\": \"library strains\", \"date\": \"2024-12-26T00:00:00\", \"sequences\": 101.0}, {\"set_of_strains\": \"library strains\", \"date\": \"2024-12-27T00:00:00\", \"sequences\": 101.0}, {\"set_of_strains\": \"library strains\", \"date\": \"2024-12-28T00:00:00\", \"sequences\": 87.0}, {\"set_of_strains\": \"library strains\", \"date\": \"2024-12-29T00:00:00\", \"sequences\": 82.0}, {\"set_of_strains\": \"library strains\", \"date\": \"2024-12-30T00:00:00\", \"sequences\": 129.0}, {\"set_of_strains\": \"library strains\", \"date\": \"2024-12-31T00:00:00\", \"sequences\": 102.0}, {\"set_of_strains\": \"library strains\", \"date\": \"2025-01-01T00:00:00\", \"sequences\": 78.0}, {\"set_of_strains\": \"library strains\", \"date\": \"2025-01-02T00:00:00\", \"sequences\": 136.0}, {\"set_of_strains\": \"library strains\", \"date\": \"2025-01-03T00:00:00\", \"sequences\": 103.0}, {\"set_of_strains\": \"library strains\", \"date\": \"2025-01-04T00:00:00\", \"sequences\": 65.0}, {\"set_of_strains\": \"library strains\", \"date\": \"2025-01-05T00:00:00\", \"sequences\": 73.0}, {\"set_of_strains\": \"library strains\", \"date\": \"2025-01-06T00:00:00\", \"sequences\": 149.0}, {\"set_of_strains\": \"library strains\", \"date\": \"2025-01-07T00:00:00\", \"sequences\": 121.0}, {\"set_of_strains\": \"library strains\", \"date\": \"2025-01-08T00:00:00\", \"sequences\": 114.0}, {\"set_of_strains\": \"library strains\", \"date\": \"2025-01-09T00:00:00\", \"sequences\": 83.0}, {\"set_of_strains\": \"library strains\", \"date\": \"2025-01-10T00:00:00\", \"sequences\": 113.0}, {\"set_of_strains\": \"library strains\", \"date\": \"2025-01-11T00:00:00\", \"sequences\": 61.0}, {\"set_of_strains\": \"library strains\", \"date\": \"2025-01-12T00:00:00\", \"sequences\": 51.0}, {\"set_of_strains\": \"library strains\", \"date\": \"2025-01-13T00:00:00\", \"sequences\": 159.0}, {\"set_of_strains\": \"library strains\", \"date\": \"2025-01-14T00:00:00\", \"sequences\": 122.0}, {\"set_of_strains\": \"library strains\", \"date\": \"2025-01-15T00:00:00\", \"sequences\": 126.0}, {\"set_of_strains\": \"library strains\", \"date\": \"2025-01-16T00:00:00\", \"sequences\": 125.0}, {\"set_of_strains\": \"library strains\", \"date\": \"2025-01-17T00:00:00\", \"sequences\": 105.0}, {\"set_of_strains\": \"library strains\", \"date\": \"2025-01-18T00:00:00\", \"sequences\": 64.0}, {\"set_of_strains\": \"library strains\", \"date\": \"2025-01-19T00:00:00\", \"sequences\": 69.0}, {\"set_of_strains\": \"library strains\", \"date\": \"2025-01-20T00:00:00\", \"sequences\": 178.0}, {\"set_of_strains\": \"library strains\", \"date\": \"2025-01-21T00:00:00\", \"sequences\": 163.0}, {\"set_of_strains\": \"library strains\", \"date\": \"2025-01-22T00:00:00\", \"sequences\": 167.0}, {\"set_of_strains\": \"library strains\", \"date\": \"2025-01-23T00:00:00\", \"sequences\": 111.0}, {\"set_of_strains\": \"library strains\", \"date\": \"2025-01-24T00:00:00\", \"sequences\": 91.0}, {\"set_of_strains\": \"library strains\", \"date\": \"2025-01-25T00:00:00\", \"sequences\": 67.0}, {\"set_of_strains\": \"library strains\", \"date\": \"2025-01-26T00:00:00\", \"sequences\": 84.0}, {\"set_of_strains\": \"library strains\", \"date\": \"2025-01-27T00:00:00\", \"sequences\": 193.0}, {\"set_of_strains\": \"library strains\", \"date\": \"2025-01-28T00:00:00\", \"sequences\": 168.0}, {\"set_of_strains\": \"library strains\", \"date\": \"2025-01-29T00:00:00\", \"sequences\": 152.0}, {\"set_of_strains\": \"library strains\", \"date\": \"2025-01-30T00:00:00\", \"sequences\": 156.0}, {\"set_of_strains\": \"library strains\", \"date\": \"2025-01-31T00:00:00\", \"sequences\": 106.0}, {\"set_of_strains\": \"library strains\", \"date\": \"2025-02-01T00:00:00\", \"sequences\": 69.0}, {\"set_of_strains\": \"library strains\", \"date\": \"2025-02-02T00:00:00\", \"sequences\": 68.0}, {\"set_of_strains\": \"library strains\", \"date\": \"2025-02-03T00:00:00\", \"sequences\": 175.0}, {\"set_of_strains\": \"library strains\", \"date\": \"2025-02-04T00:00:00\", \"sequences\": 148.0}, {\"set_of_strains\": \"library strains\", \"date\": \"2025-02-05T00:00:00\", \"sequences\": 139.0}, {\"set_of_strains\": \"library strains\", \"date\": \"2025-02-06T00:00:00\", \"sequences\": 110.0}, {\"set_of_strains\": \"library strains\", \"date\": \"2025-02-07T00:00:00\", \"sequences\": 109.0}, {\"set_of_strains\": \"library strains\", \"date\": \"2025-02-08T00:00:00\", \"sequences\": 57.0}, {\"set_of_strains\": \"library strains\", \"date\": \"2025-02-09T00:00:00\", \"sequences\": 61.0}, {\"set_of_strains\": \"library strains\", \"date\": \"2025-02-10T00:00:00\", \"sequences\": 138.0}, {\"set_of_strains\": \"library strains\", \"date\": \"2025-02-11T00:00:00\", \"sequences\": 146.0}, {\"set_of_strains\": \"library strains\", \"date\": \"2025-02-12T00:00:00\", \"sequences\": 87.0}, {\"set_of_strains\": \"library strains\", \"date\": \"2025-02-13T00:00:00\", \"sequences\": 121.0}, {\"set_of_strains\": \"library strains\", \"date\": \"2025-02-14T00:00:00\", \"sequences\": 89.0}, {\"set_of_strains\": \"library strains\", \"date\": \"2025-02-15T00:00:00\", \"sequences\": 49.0}, {\"set_of_strains\": \"library strains\", \"date\": \"2025-02-16T00:00:00\", \"sequences\": 59.0}, {\"set_of_strains\": \"library strains\", \"date\": \"2025-02-17T00:00:00\", \"sequences\": 104.0}, {\"set_of_strains\": \"library strains\", \"date\": \"2025-02-18T00:00:00\", \"sequences\": 115.0}, {\"set_of_strains\": \"library strains\", \"date\": \"2025-02-19T00:00:00\", \"sequences\": 98.0}, {\"set_of_strains\": \"library strains\", \"date\": \"2025-02-20T00:00:00\", \"sequences\": 76.0}, {\"set_of_strains\": \"library strains\", \"date\": \"2025-02-21T00:00:00\", \"sequences\": 51.0}, {\"set_of_strains\": \"library strains\", \"date\": \"2025-02-22T00:00:00\", \"sequences\": 38.0}, {\"set_of_strains\": \"library strains\", \"date\": \"2025-02-23T00:00:00\", \"sequences\": 36.0}, {\"set_of_strains\": \"library strains\", \"date\": \"2025-02-24T00:00:00\", \"sequences\": 102.0}, {\"set_of_strains\": \"library strains\", \"date\": \"2025-02-25T00:00:00\", \"sequences\": 88.0}, {\"set_of_strains\": \"library strains\", \"date\": \"2025-02-26T00:00:00\", \"sequences\": 86.0}, {\"set_of_strains\": \"library strains\", \"date\": \"2025-02-27T00:00:00\", \"sequences\": 65.0}, {\"set_of_strains\": \"library strains\", \"date\": \"2025-02-28T00:00:00\", \"sequences\": 46.0}, {\"set_of_strains\": \"library strains\", \"date\": \"2025-03-01T00:00:00\", \"sequences\": 43.0}, {\"set_of_strains\": \"library strains\", \"date\": \"2025-03-02T00:00:00\", \"sequences\": 40.0}, {\"set_of_strains\": \"library strains\", \"date\": \"2025-03-03T00:00:00\", \"sequences\": 60.0}, {\"set_of_strains\": \"library strains\", \"date\": \"2025-03-04T00:00:00\", \"sequences\": 66.0}, {\"set_of_strains\": \"library strains\", \"date\": \"2025-03-05T00:00:00\", \"sequences\": 55.0}, {\"set_of_strains\": \"library strains\", \"date\": \"2025-03-06T00:00:00\", \"sequences\": 51.0}, {\"set_of_strains\": \"library strains\", \"date\": \"2025-03-07T00:00:00\", \"sequences\": 42.0}, {\"set_of_strains\": \"library strains\", \"date\": \"2025-03-08T00:00:00\", \"sequences\": 20.0}, {\"set_of_strains\": \"library strains\", \"date\": \"2025-03-09T00:00:00\", \"sequences\": 22.0}, {\"set_of_strains\": \"library strains\", \"date\": \"2025-03-10T00:00:00\", \"sequences\": 41.0}, {\"set_of_strains\": \"library strains\", \"date\": \"2025-03-11T00:00:00\", \"sequences\": 45.0}, {\"set_of_strains\": \"library strains\", \"date\": \"2025-03-12T00:00:00\", \"sequences\": 31.0}, {\"set_of_strains\": \"library strains\", \"date\": \"2025-03-13T00:00:00\", \"sequences\": 22.0}, {\"set_of_strains\": \"library strains\", \"date\": \"2025-03-14T00:00:00\", \"sequences\": 16.0}, {\"set_of_strains\": \"library strains\", \"date\": \"2025-03-15T00:00:00\", \"sequences\": 13.0}, {\"set_of_strains\": \"library strains\", \"date\": \"2025-03-16T00:00:00\", \"sequences\": 12.0}, {\"set_of_strains\": \"library strains\", \"date\": \"2025-03-17T00:00:00\", \"sequences\": 23.0}, {\"set_of_strains\": \"library strains\", \"date\": \"2025-03-18T00:00:00\", \"sequences\": 21.0}, {\"set_of_strains\": \"library strains\", \"date\": \"2025-03-19T00:00:00\", \"sequences\": 21.0}, {\"set_of_strains\": \"library strains\", \"date\": \"2025-03-20T00:00:00\", \"sequences\": 14.0}, {\"set_of_strains\": \"library strains\", \"date\": \"2025-03-21T00:00:00\", \"sequences\": 11.0}, {\"set_of_strains\": \"library strains\", \"date\": \"2025-03-22T00:00:00\", \"sequences\": 6.0}, {\"set_of_strains\": \"library strains\", \"date\": \"2025-03-23T00:00:00\", \"sequences\": 6.0}, {\"set_of_strains\": \"library strains\", \"date\": \"2025-03-24T00:00:00\", \"sequences\": 9.0}, {\"set_of_strains\": \"library strains\", \"date\": \"2025-03-25T00:00:00\", \"sequences\": 14.0}, {\"set_of_strains\": \"library strains\", \"date\": \"2025-03-26T00:00:00\", \"sequences\": 10.0}, {\"set_of_strains\": \"library strains\", \"date\": \"2025-03-27T00:00:00\", \"sequences\": 3.0}, {\"set_of_strains\": \"library strains\", \"date\": \"2025-03-28T00:00:00\", \"sequences\": 7.0}, {\"set_of_strains\": \"library strains\", \"date\": \"2025-03-29T00:00:00\", \"sequences\": 3.0}, {\"set_of_strains\": \"library strains\", \"date\": \"2025-03-30T00:00:00\", \"sequences\": 2.0}, {\"set_of_strains\": \"library strains\", \"date\": \"2025-03-31T00:00:00\", \"sequences\": 2.0}, {\"set_of_strains\": \"library strains\", \"date\": \"2025-04-01T00:00:00\", \"sequences\": 3.0}, {\"set_of_strains\": \"library strains\", \"date\": \"2025-04-02T00:00:00\", \"sequences\": 3.0}, {\"set_of_strains\": \"library strains\", \"date\": \"2025-04-03T00:00:00\", \"sequences\": 3.0}, {\"set_of_strains\": \"library strains\", \"date\": \"2025-04-04T00:00:00\", \"sequences\": 0.0}, {\"set_of_strains\": \"library strains\", \"date\": \"2025-04-05T00:00:00\", \"sequences\": 0.0}, {\"set_of_strains\": \"library strains\", \"date\": \"2025-04-06T00:00:00\", \"sequences\": 0.0}, {\"set_of_strains\": \"library strains\", \"date\": \"2025-04-07T00:00:00\", \"sequences\": 0.0}, {\"set_of_strains\": \"library strains\", \"date\": \"2025-04-08T00:00:00\", \"sequences\": 9.0}, {\"set_of_strains\": \"strain not in library\", \"date\": \"2024-04-01T00:00:00\", \"sequences\": 24.0}, {\"set_of_strains\": \"strain not in library\", \"date\": \"2024-04-02T00:00:00\", \"sequences\": 31.0}, {\"set_of_strains\": \"strain not in library\", \"date\": \"2024-04-03T00:00:00\", \"sequences\": 31.0}, {\"set_of_strains\": \"strain not in library\", \"date\": \"2024-04-04T00:00:00\", \"sequences\": 25.0}, {\"set_of_strains\": \"strain not in library\", \"date\": \"2024-04-05T00:00:00\", \"sequences\": 26.0}, {\"set_of_strains\": \"strain not in library\", \"date\": \"2024-04-06T00:00:00\", \"sequences\": 16.0}, {\"set_of_strains\": \"strain not in library\", \"date\": \"2024-04-07T00:00:00\", \"sequences\": 8.0}, {\"set_of_strains\": \"strain not in library\", \"date\": \"2024-04-08T00:00:00\", \"sequences\": 20.0}, {\"set_of_strains\": \"strain not in library\", \"date\": \"2024-04-09T00:00:00\", \"sequences\": 16.0}, {\"set_of_strains\": \"strain not in library\", \"date\": \"2024-04-10T00:00:00\", \"sequences\": 22.0}, {\"set_of_strains\": \"strain not in library\", \"date\": \"2024-04-11T00:00:00\", \"sequences\": 22.0}, {\"set_of_strains\": \"strain not in library\", \"date\": \"2024-04-12T00:00:00\", \"sequences\": 13.0}, {\"set_of_strains\": \"strain not in library\", \"date\": \"2024-04-13T00:00:00\", \"sequences\": 8.0}, {\"set_of_strains\": \"strain not in library\", \"date\": \"2024-04-14T00:00:00\", \"sequences\": 9.0}, {\"set_of_strains\": \"strain not in library\", \"date\": \"2024-04-15T00:00:00\", \"sequences\": 19.0}, {\"set_of_strains\": \"strain not in library\", \"date\": \"2024-04-16T00:00:00\", \"sequences\": 20.0}, {\"set_of_strains\": \"strain not in library\", \"date\": \"2024-04-17T00:00:00\", \"sequences\": 23.0}, {\"set_of_strains\": \"strain not in library\", \"date\": \"2024-04-18T00:00:00\", \"sequences\": 18.0}, {\"set_of_strains\": \"strain not in library\", \"date\": \"2024-04-19T00:00:00\", \"sequences\": 18.0}, {\"set_of_strains\": \"strain not in library\", \"date\": \"2024-04-20T00:00:00\", \"sequences\": 6.0}, {\"set_of_strains\": \"strain not in library\", \"date\": \"2024-04-21T00:00:00\", \"sequences\": 13.0}, {\"set_of_strains\": \"strain not in library\", \"date\": \"2024-04-22T00:00:00\", \"sequences\": 15.0}, {\"set_of_strains\": \"strain not in library\", \"date\": \"2024-04-23T00:00:00\", \"sequences\": 17.0}, {\"set_of_strains\": \"strain not in library\", \"date\": \"2024-04-24T00:00:00\", \"sequences\": 19.0}, {\"set_of_strains\": \"strain not in library\", \"date\": \"2024-04-25T00:00:00\", \"sequences\": 14.0}, {\"set_of_strains\": \"strain not in library\", \"date\": \"2024-04-26T00:00:00\", \"sequences\": 9.0}, {\"set_of_strains\": \"strain not in library\", \"date\": \"2024-04-27T00:00:00\", \"sequences\": 5.0}, {\"set_of_strains\": \"strain not in library\", \"date\": \"2024-04-28T00:00:00\", \"sequences\": 5.0}, {\"set_of_strains\": \"strain not in library\", \"date\": \"2024-04-29T00:00:00\", \"sequences\": 14.0}, {\"set_of_strains\": \"strain not in library\", \"date\": \"2024-04-30T00:00:00\", \"sequences\": 8.0}, {\"set_of_strains\": \"strain not in library\", \"date\": \"2024-05-01T00:00:00\", \"sequences\": 5.0}, {\"set_of_strains\": \"strain not in library\", \"date\": \"2024-05-02T00:00:00\", \"sequences\": 10.0}, {\"set_of_strains\": \"strain not in library\", \"date\": \"2024-05-03T00:00:00\", \"sequences\": 24.0}, {\"set_of_strains\": \"strain not in library\", \"date\": \"2024-05-04T00:00:00\", \"sequences\": 9.0}, {\"set_of_strains\": \"strain not in library\", \"date\": \"2024-05-05T00:00:00\", \"sequences\": 9.0}, {\"set_of_strains\": \"strain not in library\", \"date\": \"2024-05-06T00:00:00\", \"sequences\": 25.0}, {\"set_of_strains\": \"strain not in library\", \"date\": \"2024-05-07T00:00:00\", \"sequences\": 10.0}, {\"set_of_strains\": \"strain not in library\", \"date\": \"2024-05-08T00:00:00\", \"sequences\": 28.0}, {\"set_of_strains\": \"strain not in library\", \"date\": \"2024-05-09T00:00:00\", \"sequences\": 18.0}, {\"set_of_strains\": \"strain not in library\", \"date\": \"2024-05-10T00:00:00\", \"sequences\": 18.0}, {\"set_of_strains\": \"strain not in library\", \"date\": \"2024-05-11T00:00:00\", \"sequences\": 5.0}, {\"set_of_strains\": \"strain not in library\", \"date\": \"2024-05-12T00:00:00\", \"sequences\": 4.0}, {\"set_of_strains\": \"strain not in library\", \"date\": \"2024-05-13T00:00:00\", \"sequences\": 24.0}, {\"set_of_strains\": \"strain not in library\", \"date\": \"2024-05-14T00:00:00\", \"sequences\": 12.0}, {\"set_of_strains\": \"strain not in library\", \"date\": \"2024-05-15T00:00:00\", \"sequences\": 6.0}, {\"set_of_strains\": \"strain not in library\", \"date\": \"2024-05-16T00:00:00\", \"sequences\": 19.0}, {\"set_of_strains\": \"strain not in library\", \"date\": \"2024-05-17T00:00:00\", \"sequences\": 6.0}, {\"set_of_strains\": \"strain not in library\", \"date\": \"2024-05-18T00:00:00\", \"sequences\": 6.0}, {\"set_of_strains\": \"strain not in library\", \"date\": \"2024-05-19T00:00:00\", \"sequences\": 1.0}, {\"set_of_strains\": \"strain not in library\", \"date\": \"2024-05-20T00:00:00\", \"sequences\": 11.0}, {\"set_of_strains\": \"strain not in library\", \"date\": \"2024-05-21T00:00:00\", \"sequences\": 18.0}, {\"set_of_strains\": \"strain not in library\", \"date\": \"2024-05-22T00:00:00\", \"sequences\": 11.0}, {\"set_of_strains\": \"strain not in library\", \"date\": \"2024-05-23T00:00:00\", \"sequences\": 9.0}, {\"set_of_strains\": \"strain not in library\", \"date\": \"2024-05-24T00:00:00\", \"sequences\": 12.0}, {\"set_of_strains\": \"strain not in library\", \"date\": \"2024-05-25T00:00:00\", \"sequences\": 8.0}, {\"set_of_strains\": \"strain not in library\", \"date\": \"2024-05-26T00:00:00\", \"sequences\": 4.0}, {\"set_of_strains\": \"strain not in library\", \"date\": \"2024-05-27T00:00:00\", \"sequences\": 16.0}, {\"set_of_strains\": \"strain not in library\", \"date\": \"2024-05-28T00:00:00\", \"sequences\": 11.0}, {\"set_of_strains\": \"strain not in library\", \"date\": \"2024-05-29T00:00:00\", \"sequences\": 7.0}, {\"set_of_strains\": \"strain not in library\", \"date\": \"2024-05-30T00:00:00\", \"sequences\": 12.0}, {\"set_of_strains\": \"strain not in library\", \"date\": \"2024-05-31T00:00:00\", \"sequences\": 14.0}, {\"set_of_strains\": \"strain not in library\", \"date\": \"2024-06-01T00:00:00\", \"sequences\": 2.0}, {\"set_of_strains\": \"strain not in library\", \"date\": \"2024-06-02T00:00:00\", \"sequences\": 7.0}, {\"set_of_strains\": \"strain not in library\", \"date\": \"2024-06-03T00:00:00\", \"sequences\": 16.0}, {\"set_of_strains\": \"strain not in library\", \"date\": \"2024-06-04T00:00:00\", \"sequences\": 15.0}, {\"set_of_strains\": \"strain not in library\", \"date\": \"2024-06-05T00:00:00\", \"sequences\": 10.0}, {\"set_of_strains\": \"strain not in library\", \"date\": \"2024-06-06T00:00:00\", \"sequences\": 3.0}, {\"set_of_strains\": \"strain not in library\", \"date\": \"2024-06-07T00:00:00\", \"sequences\": 6.0}, {\"set_of_strains\": \"strain not in library\", \"date\": \"2024-06-08T00:00:00\", \"sequences\": 2.0}, {\"set_of_strains\": \"strain not in library\", \"date\": \"2024-06-09T00:00:00\", \"sequences\": 6.0}, {\"set_of_strains\": \"strain not in library\", \"date\": \"2024-06-10T00:00:00\", \"sequences\": 7.0}, {\"set_of_strains\": \"strain not in library\", \"date\": \"2024-06-11T00:00:00\", \"sequences\": 3.0}, {\"set_of_strains\": \"strain not in library\", \"date\": \"2024-06-12T00:00:00\", \"sequences\": 3.0}, {\"set_of_strains\": \"strain not in library\", \"date\": \"2024-06-13T00:00:00\", \"sequences\": 6.0}, {\"set_of_strains\": \"strain not in library\", \"date\": \"2024-06-14T00:00:00\", \"sequences\": 6.0}, {\"set_of_strains\": \"strain not in library\", \"date\": \"2024-06-15T00:00:00\", \"sequences\": 7.0}, {\"set_of_strains\": \"strain not in library\", \"date\": \"2024-06-16T00:00:00\", \"sequences\": 3.0}, {\"set_of_strains\": \"strain not in library\", \"date\": \"2024-06-17T00:00:00\", \"sequences\": 12.0}, {\"set_of_strains\": \"strain not in library\", \"date\": \"2024-06-18T00:00:00\", \"sequences\": 16.0}, {\"set_of_strains\": \"strain not in library\", \"date\": \"2024-06-19T00:00:00\", \"sequences\": 10.0}, {\"set_of_strains\": \"strain not in library\", \"date\": \"2024-06-20T00:00:00\", \"sequences\": 8.0}, {\"set_of_strains\": \"strain not in library\", \"date\": \"2024-06-21T00:00:00\", \"sequences\": 6.0}, {\"set_of_strains\": \"strain not in library\", \"date\": \"2024-06-22T00:00:00\", \"sequences\": 2.0}, {\"set_of_strains\": \"strain not in library\", \"date\": \"2024-06-23T00:00:00\", \"sequences\": 4.0}, {\"set_of_strains\": \"strain not in library\", \"date\": \"2024-06-24T00:00:00\", \"sequences\": 14.0}, {\"set_of_strains\": \"strain not in library\", \"date\": \"2024-06-25T00:00:00\", \"sequences\": 11.0}, {\"set_of_strains\": \"strain not in library\", \"date\": \"2024-06-26T00:00:00\", \"sequences\": 14.0}, {\"set_of_strains\": \"strain not in library\", \"date\": \"2024-06-27T00:00:00\", \"sequences\": 7.0}, {\"set_of_strains\": \"strain not in library\", \"date\": \"2024-06-28T00:00:00\", \"sequences\": 6.0}, {\"set_of_strains\": \"strain not in library\", \"date\": \"2024-06-29T00:00:00\", \"sequences\": 3.0}, {\"set_of_strains\": \"strain not in library\", \"date\": \"2024-06-30T00:00:00\", \"sequences\": 3.0}, {\"set_of_strains\": \"strain not in library\", \"date\": \"2024-07-01T00:00:00\", \"sequences\": 10.0}, {\"set_of_strains\": \"strain not in library\", \"date\": \"2024-07-02T00:00:00\", \"sequences\": 8.0}, {\"set_of_strains\": \"strain not in library\", \"date\": \"2024-07-03T00:00:00\", \"sequences\": 8.0}, {\"set_of_strains\": \"strain not in library\", \"date\": \"2024-07-04T00:00:00\", \"sequences\": 11.0}, {\"set_of_strains\": \"strain not in library\", \"date\": \"2024-07-05T00:00:00\", \"sequences\": 7.0}, {\"set_of_strains\": \"strain not in library\", \"date\": \"2024-07-06T00:00:00\", \"sequences\": 7.0}, {\"set_of_strains\": \"strain not in library\", \"date\": \"2024-07-07T00:00:00\", \"sequences\": 5.0}, {\"set_of_strains\": \"strain not in library\", \"date\": \"2024-07-08T00:00:00\", \"sequences\": 8.0}, {\"set_of_strains\": \"strain not in library\", \"date\": \"2024-07-09T00:00:00\", \"sequences\": 9.0}, {\"set_of_strains\": \"strain not in library\", \"date\": \"2024-07-10T00:00:00\", \"sequences\": 6.0}, {\"set_of_strains\": \"strain not in library\", \"date\": \"2024-07-11T00:00:00\", \"sequences\": 10.0}, {\"set_of_strains\": \"strain not in library\", \"date\": \"2024-07-12T00:00:00\", \"sequences\": 4.0}, {\"set_of_strains\": \"strain not in library\", \"date\": \"2024-07-13T00:00:00\", \"sequences\": 2.0}, {\"set_of_strains\": \"strain not in library\", \"date\": \"2024-07-14T00:00:00\", \"sequences\": 3.0}, {\"set_of_strains\": \"strain not in library\", \"date\": \"2024-07-15T00:00:00\", \"sequences\": 11.0}, {\"set_of_strains\": \"strain not in library\", \"date\": \"2024-07-16T00:00:00\", \"sequences\": 11.0}, {\"set_of_strains\": \"strain not in library\", \"date\": \"2024-07-17T00:00:00\", \"sequences\": 11.0}, {\"set_of_strains\": \"strain not in library\", \"date\": \"2024-07-18T00:00:00\", \"sequences\": 4.0}, {\"set_of_strains\": \"strain not in library\", \"date\": \"2024-07-19T00:00:00\", \"sequences\": 9.0}, {\"set_of_strains\": \"strain not in library\", \"date\": \"2024-07-20T00:00:00\", \"sequences\": 5.0}, {\"set_of_strains\": \"strain not in library\", \"date\": \"2024-07-21T00:00:00\", \"sequences\": 5.0}, {\"set_of_strains\": \"strain not in library\", \"date\": \"2024-07-22T00:00:00\", \"sequences\": 19.0}, {\"set_of_strains\": \"strain not in library\", \"date\": \"2024-07-23T00:00:00\", \"sequences\": 6.0}, {\"set_of_strains\": \"strain not in library\", \"date\": \"2024-07-24T00:00:00\", \"sequences\": 8.0}, {\"set_of_strains\": \"strain not in library\", \"date\": \"2024-07-25T00:00:00\", \"sequences\": 15.0}, {\"set_of_strains\": \"strain not in library\", \"date\": \"2024-07-26T00:00:00\", \"sequences\": 7.0}, {\"set_of_strains\": \"strain not in library\", \"date\": \"2024-07-27T00:00:00\", \"sequences\": 2.0}, {\"set_of_strains\": \"strain not in library\", \"date\": \"2024-07-28T00:00:00\", \"sequences\": 6.0}, {\"set_of_strains\": \"strain not in library\", \"date\": \"2024-07-29T00:00:00\", \"sequences\": 8.0}, {\"set_of_strains\": \"strain not in library\", \"date\": \"2024-07-30T00:00:00\", \"sequences\": 5.0}, {\"set_of_strains\": \"strain not in library\", \"date\": \"2024-07-31T00:00:00\", \"sequences\": 8.0}, {\"set_of_strains\": \"strain not in library\", \"date\": \"2024-08-01T00:00:00\", \"sequences\": 14.0}, {\"set_of_strains\": \"strain not in library\", \"date\": \"2024-08-02T00:00:00\", \"sequences\": 9.0}, {\"set_of_strains\": \"strain not in library\", \"date\": \"2024-08-03T00:00:00\", \"sequences\": 6.0}, {\"set_of_strains\": \"strain not in library\", \"date\": \"2024-08-04T00:00:00\", \"sequences\": 9.0}, {\"set_of_strains\": \"strain not in library\", \"date\": \"2024-08-05T00:00:00\", \"sequences\": 7.0}, {\"set_of_strains\": \"strain not in library\", \"date\": \"2024-08-06T00:00:00\", \"sequences\": 14.0}, {\"set_of_strains\": \"strain not in library\", \"date\": \"2024-08-07T00:00:00\", \"sequences\": 15.0}, {\"set_of_strains\": \"strain not in library\", \"date\": \"2024-08-08T00:00:00\", \"sequences\": 15.0}, {\"set_of_strains\": \"strain not in library\", \"date\": \"2024-08-09T00:00:00\", \"sequences\": 10.0}, {\"set_of_strains\": \"strain not in library\", \"date\": \"2024-08-10T00:00:00\", \"sequences\": 4.0}, {\"set_of_strains\": \"strain not in library\", \"date\": \"2024-08-11T00:00:00\", \"sequences\": 2.0}, {\"set_of_strains\": \"strain not in library\", \"date\": \"2024-08-12T00:00:00\", \"sequences\": 8.0}, {\"set_of_strains\": \"strain not in library\", \"date\": \"2024-08-13T00:00:00\", \"sequences\": 11.0}, {\"set_of_strains\": \"strain not in library\", \"date\": \"2024-08-14T00:00:00\", \"sequences\": 11.0}, {\"set_of_strains\": \"strain not in library\", \"date\": \"2024-08-15T00:00:00\", \"sequences\": 6.0}, {\"set_of_strains\": \"strain not in library\", \"date\": \"2024-08-16T00:00:00\", \"sequences\": 6.0}, {\"set_of_strains\": \"strain not in library\", \"date\": \"2024-08-17T00:00:00\", \"sequences\": 2.0}, {\"set_of_strains\": \"strain not in library\", \"date\": \"2024-08-18T00:00:00\", \"sequences\": 3.0}, {\"set_of_strains\": \"strain not in library\", \"date\": \"2024-08-19T00:00:00\", \"sequences\": 9.0}, {\"set_of_strains\": \"strain not in library\", \"date\": \"2024-08-20T00:00:00\", \"sequences\": 11.0}, {\"set_of_strains\": \"strain not in library\", \"date\": \"2024-08-21T00:00:00\", \"sequences\": 7.0}, {\"set_of_strains\": \"strain not in library\", \"date\": \"2024-08-22T00:00:00\", \"sequences\": 13.0}, {\"set_of_strains\": \"strain not in library\", \"date\": \"2024-08-23T00:00:00\", \"sequences\": 10.0}, {\"set_of_strains\": \"strain not in library\", \"date\": \"2024-08-24T00:00:00\", \"sequences\": 3.0}, {\"set_of_strains\": \"strain not in library\", \"date\": \"2024-08-25T00:00:00\", \"sequences\": 3.0}, {\"set_of_strains\": \"strain not in library\", \"date\": \"2024-08-26T00:00:00\", \"sequences\": 9.0}, {\"set_of_strains\": \"strain not in library\", \"date\": \"2024-08-27T00:00:00\", \"sequences\": 15.0}, {\"set_of_strains\": \"strain not in library\", \"date\": \"2024-08-28T00:00:00\", \"sequences\": 12.0}, {\"set_of_strains\": \"strain not in library\", \"date\": \"2024-08-29T00:00:00\", \"sequences\": 2.0}, {\"set_of_strains\": \"strain not in library\", \"date\": \"2024-08-30T00:00:00\", \"sequences\": 7.0}, {\"set_of_strains\": \"strain not in library\", \"date\": \"2024-08-31T00:00:00\", \"sequences\": 2.0}, {\"set_of_strains\": \"strain not in library\", \"date\": \"2024-09-01T00:00:00\", \"sequences\": 2.0}, {\"set_of_strains\": \"strain not in library\", \"date\": \"2024-09-02T00:00:00\", \"sequences\": 6.0}, {\"set_of_strains\": \"strain not in library\", \"date\": \"2024-09-03T00:00:00\", \"sequences\": 9.0}, {\"set_of_strains\": \"strain not in library\", \"date\": \"2024-09-04T00:00:00\", \"sequences\": 3.0}, {\"set_of_strains\": \"strain not in library\", \"date\": \"2024-09-05T00:00:00\", \"sequences\": 3.0}, {\"set_of_strains\": \"strain not in library\", \"date\": \"2024-09-06T00:00:00\", \"sequences\": 10.0}, {\"set_of_strains\": \"strain not in library\", \"date\": \"2024-09-07T00:00:00\", \"sequences\": 5.0}, {\"set_of_strains\": \"strain not in library\", \"date\": \"2024-09-08T00:00:00\", \"sequences\": 3.0}, {\"set_of_strains\": \"strain not in library\", \"date\": \"2024-09-09T00:00:00\", \"sequences\": 8.0}, {\"set_of_strains\": \"strain not in library\", \"date\": \"2024-09-10T00:00:00\", \"sequences\": 12.0}, {\"set_of_strains\": \"strain not in library\", \"date\": \"2024-09-11T00:00:00\", \"sequences\": 10.0}, {\"set_of_strains\": \"strain not in library\", \"date\": \"2024-09-12T00:00:00\", \"sequences\": 4.0}, {\"set_of_strains\": \"strain not in library\", \"date\": \"2024-09-13T00:00:00\", \"sequences\": 3.0}, {\"set_of_strains\": \"strain not in library\", \"date\": \"2024-09-14T00:00:00\", \"sequences\": 3.0}, {\"set_of_strains\": \"strain not in library\", \"date\": \"2024-09-15T00:00:00\", \"sequences\": 3.0}, {\"set_of_strains\": \"strain not in library\", \"date\": \"2024-09-16T00:00:00\", \"sequences\": 9.0}, {\"set_of_strains\": \"strain not in library\", \"date\": \"2024-09-17T00:00:00\", \"sequences\": 8.0}, {\"set_of_strains\": \"strain not in library\", \"date\": \"2024-09-18T00:00:00\", \"sequences\": 8.0}, {\"set_of_strains\": \"strain not in library\", \"date\": \"2024-09-19T00:00:00\", \"sequences\": 5.0}, {\"set_of_strains\": \"strain not in library\", \"date\": \"2024-09-20T00:00:00\", \"sequences\": 7.0}, {\"set_of_strains\": \"strain not in library\", \"date\": \"2024-09-21T00:00:00\", \"sequences\": 6.0}, {\"set_of_strains\": \"strain not in library\", \"date\": \"2024-09-22T00:00:00\", \"sequences\": 2.0}, {\"set_of_strains\": \"strain not in library\", \"date\": \"2024-09-23T00:00:00\", \"sequences\": 6.0}, {\"set_of_strains\": \"strain not in library\", \"date\": \"2024-09-24T00:00:00\", \"sequences\": 6.0}, {\"set_of_strains\": \"strain not in library\", \"date\": \"2024-09-25T00:00:00\", \"sequences\": 6.0}, {\"set_of_strains\": \"strain not in library\", \"date\": \"2024-09-26T00:00:00\", \"sequences\": 4.0}, {\"set_of_strains\": \"strain not in library\", \"date\": \"2024-09-27T00:00:00\", \"sequences\": 8.0}, {\"set_of_strains\": \"strain not in library\", \"date\": \"2024-09-28T00:00:00\", \"sequences\": 3.0}, {\"set_of_strains\": \"strain not in library\", \"date\": \"2024-09-29T00:00:00\", \"sequences\": 3.0}, {\"set_of_strains\": \"strain not in library\", \"date\": \"2024-09-30T00:00:00\", \"sequences\": 3.0}, {\"set_of_strains\": \"strain not in library\", \"date\": \"2024-10-01T00:00:00\", \"sequences\": 10.0}, {\"set_of_strains\": \"strain not in library\", \"date\": \"2024-10-02T00:00:00\", \"sequences\": 6.0}, {\"set_of_strains\": \"strain not in library\", \"date\": \"2024-10-03T00:00:00\", \"sequences\": 8.0}, {\"set_of_strains\": \"strain not in library\", \"date\": \"2024-10-04T00:00:00\", \"sequences\": 7.0}, {\"set_of_strains\": \"strain not in library\", \"date\": \"2024-10-05T00:00:00\", \"sequences\": 7.0}, {\"set_of_strains\": \"strain not in library\", \"date\": \"2024-10-06T00:00:00\", \"sequences\": 2.0}, {\"set_of_strains\": \"strain not in library\", \"date\": \"2024-10-07T00:00:00\", \"sequences\": 8.0}, {\"set_of_strains\": \"strain not in library\", \"date\": \"2024-10-08T00:00:00\", \"sequences\": 11.0}, {\"set_of_strains\": \"strain not in library\", \"date\": \"2024-10-09T00:00:00\", \"sequences\": 5.0}, {\"set_of_strains\": \"strain not in library\", \"date\": \"2024-10-10T00:00:00\", \"sequences\": 7.0}, {\"set_of_strains\": \"strain not in library\", \"date\": \"2024-10-11T00:00:00\", \"sequences\": 4.0}, {\"set_of_strains\": \"strain not in library\", \"date\": \"2024-10-12T00:00:00\", \"sequences\": 2.0}, {\"set_of_strains\": \"strain not in library\", \"date\": \"2024-10-13T00:00:00\", \"sequences\": 2.0}, {\"set_of_strains\": \"strain not in library\", \"date\": \"2024-10-14T00:00:00\", \"sequences\": 13.0}, {\"set_of_strains\": \"strain not in library\", \"date\": \"2024-10-15T00:00:00\", \"sequences\": 8.0}, {\"set_of_strains\": \"strain not in library\", \"date\": \"2024-10-16T00:00:00\", \"sequences\": 6.0}, {\"set_of_strains\": \"strain not in library\", \"date\": \"2024-10-17T00:00:00\", \"sequences\": 5.0}, {\"set_of_strains\": \"strain not in library\", \"date\": \"2024-10-18T00:00:00\", \"sequences\": 0.0}, {\"set_of_strains\": \"strain not in library\", \"date\": \"2024-10-19T00:00:00\", \"sequences\": 0.0}, {\"set_of_strains\": \"strain not in library\", \"date\": \"2024-10-20T00:00:00\", \"sequences\": 5.0}, {\"set_of_strains\": \"strain not in library\", \"date\": \"2024-10-21T00:00:00\", \"sequences\": 6.0}, {\"set_of_strains\": \"strain not in library\", \"date\": \"2024-10-22T00:00:00\", \"sequences\": 3.0}, {\"set_of_strains\": \"strain not in library\", \"date\": \"2024-10-23T00:00:00\", \"sequences\": 10.0}, {\"set_of_strains\": \"strain not in library\", \"date\": \"2024-10-24T00:00:00\", \"sequences\": 6.0}, {\"set_of_strains\": \"strain not in library\", \"date\": \"2024-10-25T00:00:00\", \"sequences\": 6.0}, {\"set_of_strains\": \"strain not in library\", \"date\": \"2024-10-26T00:00:00\", \"sequences\": 4.0}, {\"set_of_strains\": \"strain not in library\", \"date\": \"2024-10-27T00:00:00\", \"sequences\": 2.0}, {\"set_of_strains\": \"strain not in library\", \"date\": \"2024-10-28T00:00:00\", \"sequences\": 12.0}, {\"set_of_strains\": \"strain not in library\", \"date\": \"2024-10-29T00:00:00\", \"sequences\": 7.0}, {\"set_of_strains\": \"strain not in library\", \"date\": \"2024-10-30T00:00:00\", \"sequences\": 5.0}, {\"set_of_strains\": \"strain not in library\", \"date\": \"2024-10-31T00:00:00\", \"sequences\": 15.0}, {\"set_of_strains\": \"strain not in library\", \"date\": \"2024-11-01T00:00:00\", \"sequences\": 7.0}, {\"set_of_strains\": \"strain not in library\", \"date\": \"2024-11-02T00:00:00\", \"sequences\": 4.0}, {\"set_of_strains\": \"strain not in library\", \"date\": \"2024-11-03T00:00:00\", \"sequences\": 3.0}, {\"set_of_strains\": \"strain not in library\", \"date\": \"2024-11-04T00:00:00\", \"sequences\": 13.0}, {\"set_of_strains\": \"strain not in library\", \"date\": \"2024-11-05T00:00:00\", \"sequences\": 8.0}, {\"set_of_strains\": \"strain not in library\", \"date\": \"2024-11-06T00:00:00\", \"sequences\": 12.0}, {\"set_of_strains\": \"strain not in library\", \"date\": \"2024-11-07T00:00:00\", \"sequences\": 1.0}, {\"set_of_strains\": \"strain not in library\", \"date\": \"2024-11-08T00:00:00\", \"sequences\": 4.0}, {\"set_of_strains\": \"strain not in library\", \"date\": \"2024-11-09T00:00:00\", \"sequences\": 3.0}, {\"set_of_strains\": \"strain not in library\", \"date\": \"2024-11-10T00:00:00\", \"sequences\": 4.0}, {\"set_of_strains\": \"strain not in library\", \"date\": \"2024-11-11T00:00:00\", \"sequences\": 15.0}, {\"set_of_strains\": \"strain not in library\", \"date\": \"2024-11-12T00:00:00\", \"sequences\": 14.0}, {\"set_of_strains\": \"strain not in library\", \"date\": \"2024-11-13T00:00:00\", \"sequences\": 8.0}, {\"set_of_strains\": \"strain not in library\", \"date\": \"2024-11-14T00:00:00\", \"sequences\": 8.0}, {\"set_of_strains\": \"strain not in library\", \"date\": \"2024-11-15T00:00:00\", \"sequences\": 4.0}, {\"set_of_strains\": \"strain not in library\", \"date\": \"2024-11-16T00:00:00\", \"sequences\": 2.0}, {\"set_of_strains\": \"strain not in library\", \"date\": \"2024-11-17T00:00:00\", \"sequences\": 6.0}, {\"set_of_strains\": \"strain not in library\", \"date\": \"2024-11-18T00:00:00\", \"sequences\": 7.0}, {\"set_of_strains\": \"strain not in library\", \"date\": \"2024-11-19T00:00:00\", \"sequences\": 6.0}, {\"set_of_strains\": \"strain not in library\", \"date\": \"2024-11-20T00:00:00\", \"sequences\": 6.0}, {\"set_of_strains\": \"strain not in library\", \"date\": \"2024-11-21T00:00:00\", \"sequences\": 6.0}, {\"set_of_strains\": \"strain not in library\", \"date\": \"2024-11-22T00:00:00\", \"sequences\": 6.0}, {\"set_of_strains\": \"strain not in library\", \"date\": \"2024-11-23T00:00:00\", \"sequences\": 10.0}, {\"set_of_strains\": \"strain not in library\", \"date\": \"2024-11-24T00:00:00\", \"sequences\": 7.0}, {\"set_of_strains\": \"strain not in library\", \"date\": \"2024-11-25T00:00:00\", \"sequences\": 7.0}, {\"set_of_strains\": \"strain not in library\", \"date\": \"2024-11-26T00:00:00\", \"sequences\": 7.0}, {\"set_of_strains\": \"strain not in library\", \"date\": \"2024-11-27T00:00:00\", \"sequences\": 5.0}, {\"set_of_strains\": \"strain not in library\", \"date\": \"2024-11-28T00:00:00\", \"sequences\": 8.0}, {\"set_of_strains\": \"strain not in library\", \"date\": \"2024-11-29T00:00:00\", \"sequences\": 12.0}, {\"set_of_strains\": \"strain not in library\", \"date\": \"2024-11-30T00:00:00\", \"sequences\": 3.0}, {\"set_of_strains\": \"strain not in library\", \"date\": \"2024-12-01T00:00:00\", \"sequences\": 8.0}, {\"set_of_strains\": \"strain not in library\", \"date\": \"2024-12-02T00:00:00\", \"sequences\": 14.0}, {\"set_of_strains\": \"strain not in library\", \"date\": \"2024-12-03T00:00:00\", \"sequences\": 7.0}, {\"set_of_strains\": \"strain not in library\", \"date\": \"2024-12-04T00:00:00\", \"sequences\": 13.0}, {\"set_of_strains\": \"strain not in library\", \"date\": \"2024-12-05T00:00:00\", \"sequences\": 5.0}, {\"set_of_strains\": \"strain not in library\", \"date\": \"2024-12-06T00:00:00\", \"sequences\": 2.0}, {\"set_of_strains\": \"strain not in library\", \"date\": \"2024-12-07T00:00:00\", \"sequences\": 2.0}, {\"set_of_strains\": \"strain not in library\", \"date\": \"2024-12-08T00:00:00\", \"sequences\": 7.0}, {\"set_of_strains\": \"strain not in library\", \"date\": \"2024-12-09T00:00:00\", \"sequences\": 11.0}, {\"set_of_strains\": \"strain not in library\", \"date\": \"2024-12-10T00:00:00\", \"sequences\": 13.0}, {\"set_of_strains\": \"strain not in library\", \"date\": \"2024-12-11T00:00:00\", \"sequences\": 17.0}, {\"set_of_strains\": \"strain not in library\", \"date\": \"2024-12-12T00:00:00\", \"sequences\": 11.0}, {\"set_of_strains\": \"strain not in library\", \"date\": \"2024-12-13T00:00:00\", \"sequences\": 17.0}, {\"set_of_strains\": \"strain not in library\", \"date\": \"2024-12-14T00:00:00\", \"sequences\": 11.0}, {\"set_of_strains\": \"strain not in library\", \"date\": \"2024-12-15T00:00:00\", \"sequences\": 2.0}, {\"set_of_strains\": \"strain not in library\", \"date\": \"2024-12-16T00:00:00\", \"sequences\": 14.0}, {\"set_of_strains\": \"strain not in library\", \"date\": \"2024-12-17T00:00:00\", \"sequences\": 13.0}, {\"set_of_strains\": \"strain not in library\", \"date\": \"2024-12-18T00:00:00\", \"sequences\": 16.0}, {\"set_of_strains\": \"strain not in library\", \"date\": \"2024-12-19T00:00:00\", \"sequences\": 17.0}, {\"set_of_strains\": \"strain not in library\", \"date\": \"2024-12-20T00:00:00\", \"sequences\": 15.0}, {\"set_of_strains\": \"strain not in library\", \"date\": \"2024-12-21T00:00:00\", \"sequences\": 3.0}, {\"set_of_strains\": \"strain not in library\", \"date\": \"2024-12-22T00:00:00\", \"sequences\": 8.0}, {\"set_of_strains\": \"strain not in library\", \"date\": \"2024-12-23T00:00:00\", \"sequences\": 11.0}, {\"set_of_strains\": \"strain not in library\", \"date\": \"2024-12-24T00:00:00\", \"sequences\": 11.0}, {\"set_of_strains\": \"strain not in library\", \"date\": \"2024-12-25T00:00:00\", \"sequences\": 9.0}, {\"set_of_strains\": \"strain not in library\", \"date\": \"2024-12-26T00:00:00\", \"sequences\": 8.0}, {\"set_of_strains\": \"strain not in library\", \"date\": \"2024-12-27T00:00:00\", \"sequences\": 12.0}, {\"set_of_strains\": \"strain not in library\", \"date\": \"2024-12-28T00:00:00\", \"sequences\": 10.0}, {\"set_of_strains\": \"strain not in library\", \"date\": \"2024-12-29T00:00:00\", \"sequences\": 5.0}, {\"set_of_strains\": \"strain not in library\", \"date\": \"2024-12-30T00:00:00\", \"sequences\": 14.0}, {\"set_of_strains\": \"strain not in library\", \"date\": \"2024-12-31T00:00:00\", \"sequences\": 19.0}, {\"set_of_strains\": \"strain not in library\", \"date\": \"2025-01-01T00:00:00\", \"sequences\": 14.0}, {\"set_of_strains\": \"strain not in library\", \"date\": \"2025-01-02T00:00:00\", \"sequences\": 25.0}, {\"set_of_strains\": \"strain not in library\", \"date\": \"2025-01-03T00:00:00\", \"sequences\": 11.0}, {\"set_of_strains\": \"strain not in library\", \"date\": \"2025-01-04T00:00:00\", \"sequences\": 9.0}, {\"set_of_strains\": \"strain not in library\", \"date\": \"2025-01-05T00:00:00\", \"sequences\": 16.0}, {\"set_of_strains\": \"strain not in library\", \"date\": \"2025-01-06T00:00:00\", \"sequences\": 25.0}, {\"set_of_strains\": \"strain not in library\", \"date\": \"2025-01-07T00:00:00\", \"sequences\": 22.0}, {\"set_of_strains\": \"strain not in library\", \"date\": \"2025-01-08T00:00:00\", \"sequences\": 28.0}, {\"set_of_strains\": \"strain not in library\", \"date\": \"2025-01-09T00:00:00\", \"sequences\": 20.0}, {\"set_of_strains\": \"strain not in library\", \"date\": \"2025-01-10T00:00:00\", \"sequences\": 12.0}, {\"set_of_strains\": \"strain not in library\", \"date\": \"2025-01-11T00:00:00\", \"sequences\": 7.0}, {\"set_of_strains\": \"strain not in library\", \"date\": \"2025-01-12T00:00:00\", \"sequences\": 5.0}, {\"set_of_strains\": \"strain not in library\", \"date\": \"2025-01-13T00:00:00\", \"sequences\": 27.0}, {\"set_of_strains\": \"strain not in library\", \"date\": \"2025-01-14T00:00:00\", \"sequences\": 27.0}, {\"set_of_strains\": \"strain not in library\", \"date\": \"2025-01-15T00:00:00\", \"sequences\": 17.0}, {\"set_of_strains\": \"strain not in library\", \"date\": \"2025-01-16T00:00:00\", \"sequences\": 25.0}, {\"set_of_strains\": \"strain not in library\", \"date\": \"2025-01-17T00:00:00\", \"sequences\": 7.0}, {\"set_of_strains\": \"strain not in library\", \"date\": \"2025-01-18T00:00:00\", \"sequences\": 6.0}, {\"set_of_strains\": \"strain not in library\", \"date\": \"2025-01-19T00:00:00\", \"sequences\": 8.0}, {\"set_of_strains\": \"strain not in library\", \"date\": \"2025-01-20T00:00:00\", \"sequences\": 17.0}, {\"set_of_strains\": \"strain not in library\", \"date\": \"2025-01-21T00:00:00\", \"sequences\": 13.0}, {\"set_of_strains\": \"strain not in library\", \"date\": \"2025-01-22T00:00:00\", \"sequences\": 30.0}, {\"set_of_strains\": \"strain not in library\", \"date\": \"2025-01-23T00:00:00\", \"sequences\": 18.0}, {\"set_of_strains\": \"strain not in library\", \"date\": \"2025-01-24T00:00:00\", \"sequences\": 10.0}, {\"set_of_strains\": \"strain not in library\", \"date\": \"2025-01-25T00:00:00\", \"sequences\": 9.0}, {\"set_of_strains\": \"strain not in library\", \"date\": \"2025-01-26T00:00:00\", \"sequences\": 12.0}, {\"set_of_strains\": \"strain not in library\", \"date\": \"2025-01-27T00:00:00\", \"sequences\": 28.0}, {\"set_of_strains\": \"strain not in library\", \"date\": \"2025-01-28T00:00:00\", \"sequences\": 19.0}, {\"set_of_strains\": \"strain not in library\", \"date\": \"2025-01-29T00:00:00\", \"sequences\": 21.0}, {\"set_of_strains\": \"strain not in library\", \"date\": \"2025-01-30T00:00:00\", \"sequences\": 23.0}, {\"set_of_strains\": \"strain not in library\", \"date\": \"2025-01-31T00:00:00\", \"sequences\": 16.0}, {\"set_of_strains\": \"strain not in library\", \"date\": \"2025-02-01T00:00:00\", \"sequences\": 11.0}, {\"set_of_strains\": \"strain not in library\", \"date\": \"2025-02-02T00:00:00\", \"sequences\": 12.0}, {\"set_of_strains\": \"strain not in library\", \"date\": \"2025-02-03T00:00:00\", \"sequences\": 23.0}, {\"set_of_strains\": \"strain not in library\", \"date\": \"2025-02-04T00:00:00\", \"sequences\": 20.0}, {\"set_of_strains\": \"strain not in library\", \"date\": \"2025-02-05T00:00:00\", \"sequences\": 20.0}, {\"set_of_strains\": \"strain not in library\", \"date\": \"2025-02-06T00:00:00\", \"sequences\": 12.0}, {\"set_of_strains\": \"strain not in library\", \"date\": \"2025-02-07T00:00:00\", \"sequences\": 11.0}, {\"set_of_strains\": \"strain not in library\", \"date\": \"2025-02-08T00:00:00\", \"sequences\": 4.0}, {\"set_of_strains\": \"strain not in library\", \"date\": \"2025-02-09T00:00:00\", \"sequences\": 5.0}, {\"set_of_strains\": \"strain not in library\", \"date\": \"2025-02-10T00:00:00\", \"sequences\": 22.0}, {\"set_of_strains\": \"strain not in library\", \"date\": \"2025-02-11T00:00:00\", \"sequences\": 14.0}, {\"set_of_strains\": \"strain not in library\", \"date\": \"2025-02-12T00:00:00\", \"sequences\": 13.0}, {\"set_of_strains\": \"strain not in library\", \"date\": \"2025-02-13T00:00:00\", \"sequences\": 16.0}, {\"set_of_strains\": \"strain not in library\", \"date\": \"2025-02-14T00:00:00\", \"sequences\": 14.0}, {\"set_of_strains\": \"strain not in library\", \"date\": \"2025-02-15T00:00:00\", \"sequences\": 7.0}, {\"set_of_strains\": \"strain not in library\", \"date\": \"2025-02-16T00:00:00\", \"sequences\": 3.0}, {\"set_of_strains\": \"strain not in library\", \"date\": \"2025-02-17T00:00:00\", \"sequences\": 13.0}, {\"set_of_strains\": \"strain not in library\", \"date\": \"2025-02-18T00:00:00\", \"sequences\": 19.0}, {\"set_of_strains\": \"strain not in library\", \"date\": \"2025-02-19T00:00:00\", \"sequences\": 12.0}, {\"set_of_strains\": \"strain not in library\", \"date\": \"2025-02-20T00:00:00\", \"sequences\": 14.0}, {\"set_of_strains\": \"strain not in library\", \"date\": \"2025-02-21T00:00:00\", \"sequences\": 5.0}, {\"set_of_strains\": \"strain not in library\", \"date\": \"2025-02-22T00:00:00\", \"sequences\": 6.0}, {\"set_of_strains\": \"strain not in library\", \"date\": \"2025-02-23T00:00:00\", \"sequences\": 7.0}, {\"set_of_strains\": \"strain not in library\", \"date\": \"2025-02-24T00:00:00\", \"sequences\": 15.0}, {\"set_of_strains\": \"strain not in library\", \"date\": \"2025-02-25T00:00:00\", \"sequences\": 17.0}, {\"set_of_strains\": \"strain not in library\", \"date\": \"2025-02-26T00:00:00\", \"sequences\": 13.0}, {\"set_of_strains\": \"strain not in library\", \"date\": \"2025-02-27T00:00:00\", \"sequences\": 9.0}, {\"set_of_strains\": \"strain not in library\", \"date\": \"2025-02-28T00:00:00\", \"sequences\": 6.0}, {\"set_of_strains\": \"strain not in library\", \"date\": \"2025-03-01T00:00:00\", \"sequences\": 7.0}, {\"set_of_strains\": \"strain not in library\", \"date\": \"2025-03-02T00:00:00\", \"sequences\": 5.0}, {\"set_of_strains\": \"strain not in library\", \"date\": \"2025-03-03T00:00:00\", \"sequences\": 5.0}, {\"set_of_strains\": \"strain not in library\", \"date\": \"2025-03-04T00:00:00\", \"sequences\": 7.0}, {\"set_of_strains\": \"strain not in library\", \"date\": \"2025-03-05T00:00:00\", \"sequences\": 12.0}, {\"set_of_strains\": \"strain not in library\", \"date\": \"2025-03-06T00:00:00\", \"sequences\": 2.0}, {\"set_of_strains\": \"strain not in library\", \"date\": \"2025-03-07T00:00:00\", \"sequences\": 8.0}, {\"set_of_strains\": \"strain not in library\", \"date\": \"2025-03-08T00:00:00\", \"sequences\": 1.0}, {\"set_of_strains\": \"strain not in library\", \"date\": \"2025-03-09T00:00:00\", \"sequences\": 1.0}, {\"set_of_strains\": \"strain not in library\", \"date\": \"2025-03-10T00:00:00\", \"sequences\": 8.0}, {\"set_of_strains\": \"strain not in library\", \"date\": \"2025-03-11T00:00:00\", \"sequences\": 7.0}, {\"set_of_strains\": \"strain not in library\", \"date\": \"2025-03-12T00:00:00\", \"sequences\": 4.0}, {\"set_of_strains\": \"strain not in library\", \"date\": \"2025-03-13T00:00:00\", \"sequences\": 7.0}, {\"set_of_strains\": \"strain not in library\", \"date\": \"2025-03-14T00:00:00\", \"sequences\": 5.0}, {\"set_of_strains\": \"strain not in library\", \"date\": \"2025-03-15T00:00:00\", \"sequences\": 2.0}, {\"set_of_strains\": \"strain not in library\", \"date\": \"2025-03-16T00:00:00\", \"sequences\": 0.0}, {\"set_of_strains\": \"strain not in library\", \"date\": \"2025-03-17T00:00:00\", \"sequences\": 1.0}, {\"set_of_strains\": \"strain not in library\", \"date\": \"2025-03-18T00:00:00\", \"sequences\": 6.0}, {\"set_of_strains\": \"strain not in library\", \"date\": \"2025-03-19T00:00:00\", \"sequences\": 3.0}, {\"set_of_strains\": \"strain not in library\", \"date\": \"2025-03-20T00:00:00\", \"sequences\": 2.0}, {\"set_of_strains\": \"strain not in library\", \"date\": \"2025-03-21T00:00:00\", \"sequences\": 1.0}, {\"set_of_strains\": \"strain not in library\", \"date\": \"2025-03-22T00:00:00\", \"sequences\": 0.0}, {\"set_of_strains\": \"strain not in library\", \"date\": \"2025-03-23T00:00:00\", \"sequences\": 0.0}, {\"set_of_strains\": \"strain not in library\", \"date\": \"2025-03-24T00:00:00\", \"sequences\": 3.0}, {\"set_of_strains\": \"strain not in library\", \"date\": \"2025-03-25T00:00:00\", \"sequences\": 2.0}, {\"set_of_strains\": \"strain not in library\", \"date\": \"2025-03-26T00:00:00\", \"sequences\": 0.0}, {\"set_of_strains\": \"strain not in library\", \"date\": \"2025-03-27T00:00:00\", \"sequences\": 0.0}, {\"set_of_strains\": \"strain not in library\", \"date\": \"2025-03-28T00:00:00\", \"sequences\": 1.0}, {\"set_of_strains\": \"strain not in library\", \"date\": \"2025-03-29T00:00:00\", \"sequences\": 0.0}, {\"set_of_strains\": \"strain not in library\", \"date\": \"2025-03-30T00:00:00\", \"sequences\": 0.0}, {\"set_of_strains\": \"strain not in library\", \"date\": \"2025-03-31T00:00:00\", \"sequences\": 0.0}, {\"set_of_strains\": \"strain not in library\", \"date\": \"2025-04-01T00:00:00\", \"sequences\": 1.0}, {\"set_of_strains\": \"strain not in library\", \"date\": \"2025-04-02T00:00:00\", \"sequences\": 1.0}, {\"set_of_strains\": \"strain not in library\", \"date\": \"2025-04-03T00:00:00\", \"sequences\": 0.0}, {\"set_of_strains\": \"strain not in library\", \"date\": \"2025-04-04T00:00:00\", \"sequences\": 0.0}, {\"set_of_strains\": \"strain not in library\", \"date\": \"2025-04-05T00:00:00\", \"sequences\": 0.0}, {\"set_of_strains\": \"strain not in library\", \"date\": \"2025-04-06T00:00:00\", \"sequences\": 0.0}, {\"set_of_strains\": \"strain not in library\", \"date\": \"2025-04-07T00:00:00\", \"sequences\": 0.0}, {\"set_of_strains\": \"strain not in library\", \"date\": \"2025-04-08T00:00:00\", \"sequences\": 1.0}]}}, {\"mode\": \"vega-lite\"});\n",
       "</script>"
      ],
      "text/plain": [
       "alt.Chart(...)"
      ]
     },
     "execution_count": 7,
     "metadata": {},
     "output_type": "execute_result"
    }
   ],
   "source": [
    "# We create an integer days columns so we can impute missing days\n",
    "grouped_counts_by_date = (\n",
    "    filtered_counts_by_date\n",
    "    .assign(\n",
    "        set_of_strains=lambda x: x[\"variant\"].map(\n",
    "            lambda v: (\n",
    "                \"library strains\"\n",
    "                if v not in {\n",
    "                    NOT_IN_LIBRARY}\n",
    "                else v\n",
    "            ),\n",
    "        )\n",
    "    )\n",
    "    .groupby([\"set_of_strains\", \"date\"], as_index=False)\n",
    "    .aggregate({\"sequences\": \"sum\"})\n",
    ")\n",
    "\n",
    "\n",
    "# Configure chart\n",
    "titleFontSize = 18\n",
    "labelFontSize = 18\n",
    "\n",
    "# Make chart\n",
    "grouped_counts_by_date_chart = (\n",
    "    alt.Chart(grouped_counts_by_date)\n",
    "    .transform_window(\n",
    "        count=\"mean(sequences)\",\n",
    "        groupby=[\"set_of_strains\"],\n",
    "        frame=[-plot_window_frame_days, plot_window_frame_days],\n",
    "    )\n",
    "    .transform_joinaggregate(total_count=\"sum(count)\", groupby=[\"date\"])\n",
    "    .transform_calculate(fraction=alt.datum.count / alt.datum.total_count)\n",
    "    .transform_fold(\n",
    "        fold=[\"count\", \"fraction\"],\n",
    "        as_=[\"statistic\", \"count_or_fraction\"],\n",
    "    )\n",
    "    .encode(\n",
    "        alt.X(\"date\", title=None, axis=alt.Axis(grid=False, format=\"%b-%Y\", labelAngle=-90,\n",
    "                                                tickCount=100, tickSize=0,\n",
    "                                                titleFontSize=titleFontSize,\n",
    "                                                labelFontSize=labelFontSize)),\n",
    "        alt.Y(\n",
    "            \"count_or_fraction:Q\",\n",
    "            axis=alt.Axis(grid=False, \n",
    "                          titleFontSize=titleFontSize,\n",
    "                          labelFontSize=labelFontSize),\n",
    "            title=None,\n",
    "            scale=alt.Scale(nice=False)\n",
    "        ),\n",
    "        alt.Fill(\n",
    "            \"set_of_strains\",\n",
    "            title=\"set of strains\",\n",
    "            legend=alt.Legend(orient=\"right\",\n",
    "                              labelLimit=500, titleOrient=\"top\"),\n",
    "            scale=alt.Scale(range=color_scheme)\n",
    "        ),\n",
    "        alt.Row(\n",
    "            \"statistic:N\",\n",
    "            title=None,\n",
    "            header=alt.Header(orient=\"left\", labelFontStyle=\"bold\",\n",
    "                              titleFontSize=titleFontSize,\n",
    "                              labelFontSize=labelFontSize)\n",
    "        ),\n",
    "        tooltip=[\n",
    "            \"set_of_strains\",\n",
    "            \"date\",\n",
    "            \"statistic:N\",\n",
    "            alt.Tooltip(\"count_or_fraction:Q\", format=\".2f\"),\n",
    "        ],\n",
    "    )\n",
    "    .mark_area()\n",
    "    .configure_legend(titleFontSize=titleFontSize, labelFontSize=labelFontSize)\n",
    "    .properties(\n",
    "        width=450,\n",
    "        height=160,\n",
    "        title=alt.TitleParams(\n",
    "            (\"sequences in each set of strains \" +\n",
    "             f\"(rolling mean +/- {plot_window_frame_days} days)\",\n",
    "             f'from {counts_by_date_csv.strip('../results/strain_counts/')}'\n",
    "            ),\n",
    "            anchor=\"middle\",\n",
    "            dx=-50,\n",
    "            fontSize = titleFontSize\n",
    "        ),\n",
    "    )\n",
    "    .resolve_scale(y=\"independent\")\n",
    ")\n",
    "\n",
    "grouped_counts_by_date_chart"
   ]
  },
  {
   "cell_type": "code",
   "execution_count": null,
   "id": "51de4491-33b3-41b9-a733-24bf9431f549",
   "metadata": {
    "papermill": {
     "duration": 0.009816,
     "end_time": "2025-05-09T23:54:39.536962",
     "exception": false,
     "start_time": "2025-05-09T23:54:39.527146",
     "status": "completed"
    },
    "tags": []
   },
   "outputs": [],
   "source": []
  },
  {
   "cell_type": "code",
   "execution_count": null,
   "id": "35a11efc-0d74-4b76-ba1a-e66e9e967a16",
   "metadata": {
    "papermill": {
     "duration": 0.01086,
     "end_time": "2025-05-09T23:54:39.558767",
     "exception": false,
     "start_time": "2025-05-09T23:54:39.547907",
     "status": "completed"
    },
    "tags": []
   },
   "outputs": [],
   "source": []
  },
  {
   "cell_type": "code",
   "execution_count": null,
   "id": "9e0b4478-fd8b-423b-8a2f-c4e336e9d972",
   "metadata": {
    "papermill": {
     "duration": 0.010786,
     "end_time": "2025-05-09T23:54:39.579758",
     "exception": false,
     "start_time": "2025-05-09T23:54:39.568972",
     "status": "completed"
    },
    "tags": []
   },
   "outputs": [],
   "source": []
  },
  {
   "cell_type": "code",
   "execution_count": null,
   "id": "bbac37ab-b570-4634-ad24-0f560081d56f",
   "metadata": {
    "papermill": {
     "duration": 0.010204,
     "end_time": "2025-05-09T23:54:39.600381",
     "exception": false,
     "start_time": "2025-05-09T23:54:39.590177",
     "status": "completed"
    },
    "tags": []
   },
   "outputs": [],
   "source": []
  }
 ],
 "metadata": {
  "kernelspec": {
   "display_name": "Python 3 (ipykernel)",
   "language": "python",
   "name": "python3"
  },
  "language_info": {
   "codemirror_mode": {
    "name": "ipython",
    "version": 3
   },
   "file_extension": ".py",
   "mimetype": "text/x-python",
   "name": "python",
   "nbconvert_exporter": "python",
   "pygments_lexer": "ipython3",
   "version": "3.12.10"
  },
  "papermill": {
   "default_parameters": {},
   "duration": 5.511262,
   "end_time": "2025-05-09T23:54:40.230905",
   "environment_variables": {},
   "exception": null,
   "input_path": "notebooks/plot_strain_frequencies.ipynb",
   "output_path": "results/notebooks/strain_counts_h3_h3-gisaid-ha1-within1.ipynb",
   "parameters": {
    "counts_by_date": "results/strain_counts_h3/h3-gisaid-ha1-within1_counts_by_date.csv",
    "group": "h3",
    "protset": "h3-gisaid-ha1-within1"
   },
   "start_time": "2025-05-09T23:54:34.719643",
   "version": "2.6.0"
  }
 },
 "nbformat": 4,
 "nbformat_minor": 5
}